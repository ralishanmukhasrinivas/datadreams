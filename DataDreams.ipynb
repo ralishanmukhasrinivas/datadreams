{
 "cells": [
  {
   "cell_type": "code",
   "execution_count": 1,
   "id": "4b3bc75d-60e3-40d2-8c28-c573e9be9217",
   "metadata": {},
   "outputs": [
    {
     "name": "stdout",
     "output_type": "stream",
     "text": [
      "Requirement already satisfied: pyspark in c:\\users\\s555460\\big-data-venv\\lib\\site-packages (3.5.0)\n",
      "Requirement already satisfied: py4j==0.10.9.7 in c:\\users\\s555460\\big-data-venv\\lib\\site-packages (from pyspark) (0.10.9.7)\n",
      "Note: you may need to restart the kernel to use updated packages.\n"
     ]
    }
   ],
   "source": [
    "pip install pyspark"
   ]
  },
  {
   "cell_type": "code",
   "execution_count": 2,
   "id": "139aa007-bc2a-4d1d-b8a8-7618a4d9aef9",
   "metadata": {},
   "outputs": [],
   "source": [
    "#Creating spark session\n",
    "from pyspark.sql import SparkSession\n",
    "spark = SparkSession.builder.getOrCreate()"
   ]
  },
  {
   "cell_type": "code",
   "execution_count": 3,
   "id": "e6f74020-d1d7-410c-8dfa-ce2d3b5a8163",
   "metadata": {},
   "outputs": [
    {
     "name": "stdout",
     "output_type": "stream",
     "text": [
      "root\n",
      " |-- Customer ID: string (nullable = true)\n",
      " |-- Age: string (nullable = true)\n",
      " |-- Gender: string (nullable = true)\n",
      " |-- Item Purchased: string (nullable = true)\n",
      " |-- Category: string (nullable = true)\n",
      " |-- Purchase Amount (USD): string (nullable = true)\n",
      " |-- Location: string (nullable = true)\n",
      " |-- Size: string (nullable = true)\n",
      " |-- Color: string (nullable = true)\n",
      " |-- Season: string (nullable = true)\n",
      " |-- Review Rating: string (nullable = true)\n",
      " |-- Subscription Status: string (nullable = true)\n",
      " |-- Payment Method: string (nullable = true)\n",
      " |-- Shipping Type: string (nullable = true)\n",
      " |-- Discount Applied: string (nullable = true)\n",
      " |-- Promo Code Used: string (nullable = true)\n",
      " |-- Previous Purchases: string (nullable = true)\n",
      " |-- Preferred Payment Method: string (nullable = true)\n",
      " |-- Frequency of Purchases: string (nullable = true)\n",
      "\n"
     ]
    }
   ],
   "source": [
    "#Create Spark Dataraframe and reading data using Dataframe reader API\n",
    "shopping_df= spark.read.format('csv').option('header',True).load('shopping.csv')\n",
    "shopping_df.printSchema()"
   ]
  },
  {
   "cell_type": "code",
   "execution_count": 4,
   "id": "ee9f26bb-1501-49ce-aacb-f984751a7278",
   "metadata": {},
   "outputs": [
    {
     "name": "stdout",
     "output_type": "stream",
     "text": [
      "+-----------+---+------+--------------+-----------+---------------------+-------------+----+---------+------+-------------+-------------------+--------------+--------------+----------------+---------------+------------------+------------------------+----------------------+\n",
      "|Customer ID|Age|Gender|Item Purchased|   Category|Purchase Amount (USD)|     Location|Size|    Color|Season|Review Rating|Subscription Status|Payment Method| Shipping Type|Discount Applied|Promo Code Used|Previous Purchases|Preferred Payment Method|Frequency of Purchases|\n",
      "+-----------+---+------+--------------+-----------+---------------------+-------------+----+---------+------+-------------+-------------------+--------------+--------------+----------------+---------------+------------------+------------------------+----------------------+\n",
      "|          1| 55|  Male|        Blouse|   Clothing|                   53|     Kentucky|   L|     Gray|Winter|          3.1|                Yes|   Credit Card|       Express|             Yes|            Yes|                14|                   Venmo|           Fortnightly|\n",
      "|          2| 19|  Male|       Sweater|   Clothing|                   64|        Maine|   L|   Maroon|Winter|          3.1|                Yes| Bank Transfer|       Express|             Yes|            Yes|                 2|                    Cash|           Fortnightly|\n",
      "|          3| 50|  Male|         Jeans|   Clothing|                   73|Massachusetts|   S|   Maroon|Spring|          3.1|                Yes|          Cash| Free Shipping|             Yes|            Yes|                23|             Credit Card|                Weekly|\n",
      "|          4| 21|  Male|       Sandals|   Footwear|                   90| Rhode Island|   M|   Maroon|Spring|          3.5|                Yes|        PayPal|  Next Day Air|             Yes|            Yes|                49|                  PayPal|                Weekly|\n",
      "|          5| 45|  Male|        Blouse|   Clothing|                   49|       Oregon|   M|Turquoise|Spring|          2.7|                Yes|          Cash| Free Shipping|             Yes|            Yes|                31|                  PayPal|              Annually|\n",
      "|          6| 46|  Male|      Sneakers|   Footwear|                   20|      Wyoming|   M|    White|Summer|          2.9|                Yes|         Venmo|      Standard|             Yes|            Yes|                14|                   Venmo|                Weekly|\n",
      "|          7| 63|  Male|         Shirt|   Clothing|                   85|      Montana|   M|     Gray|  Fall|          3.2|                Yes|    Debit Card| Free Shipping|             Yes|            Yes|                49|                    Cash|             Quarterly|\n",
      "|          8| 27|  Male|        Shorts|   Clothing|                   34|    Louisiana|   L| Charcoal|Winter|          3.2|                Yes|    Debit Card| Free Shipping|             Yes|            Yes|                19|             Credit Card|                Weekly|\n",
      "|          9| 26|  Male|          Coat|  Outerwear|                   97|West Virginia|   L|   Silver|Summer|          2.6|                Yes|         Venmo|       Express|             Yes|            Yes|                 8|                   Venmo|              Annually|\n",
      "|         10| 57|  Male|       Handbag|Accessories|                   31|     Missouri|   M|     Pink|Spring|          4.8|                Yes|        PayPal|2-Day Shipping|             Yes|            Yes|                 4|                    Cash|             Quarterly|\n",
      "|         11| 53|  Male|         Shoes|   Footwear|                   34|     Arkansas|   L|   Purple|  Fall|          4.1|                Yes|   Credit Card|  Store Pickup|             Yes|            Yes|                26|           Bank Transfer|             Bi-Weekly|\n",
      "|         12| 30|  Male|        Shorts|   Clothing|                   68|       Hawaii|   S|    Olive|Winter|          4.9|                Yes|        PayPal|  Store Pickup|             Yes|            Yes|                10|           Bank Transfer|           Fortnightly|\n",
      "|         13| 61|  Male|          Coat|  Outerwear|                   72|     Delaware|   M|     Gold|Winter|          4.5|                Yes|        PayPal|       Express|             Yes|            Yes|                37|                   Venmo|           Fortnightly|\n",
      "|         14| 65|  Male|         Dress|   Clothing|                   51|New Hampshire|   M|   Violet|Spring|          4.7|                Yes|    Debit Card|       Express|             Yes|            Yes|                31|                  PayPal|                Weekly|\n",
      "|         15| 64|  Male|          Coat|  Outerwear|                   53|     New York|   L|     Teal|Winter|          4.7|                Yes|        PayPal| Free Shipping|             Yes|            Yes|                34|              Debit Card|                Weekly|\n",
      "|         16| 64|  Male|         Skirt|   Clothing|                   81| Rhode Island|   M|     Teal|Winter|          2.8|                Yes|   Credit Card|  Store Pickup|             Yes|            Yes|                 8|                  PayPal|               Monthly|\n",
      "|         17| 25|  Male|    Sunglasses|Accessories|                   36|      Alabama|   S|     Gray|Spring|          4.1|                Yes|         Venmo|  Next Day Air|             Yes|            Yes|                44|              Debit Card|             Bi-Weekly|\n",
      "|         18| 53|  Male|         Dress|   Clothing|                   38|  Mississippi|  XL| Lavender|Winter|          4.7|                Yes|    Debit Card|2-Day Shipping|             Yes|            Yes|                36|                   Venmo|             Quarterly|\n",
      "|         19| 52|  Male|       Sweater|   Clothing|                   48|      Montana|   S|    Black|Summer|          4.6|                Yes| Bank Transfer| Free Shipping|             Yes|            Yes|                17|                    Cash|                Weekly|\n",
      "|         20| 66|  Male|         Pants|   Clothing|                   90| Rhode Island|   M|    Green|Summer|          3.3|                Yes|         Venmo|      Standard|             Yes|            Yes|                46|              Debit Card|             Bi-Weekly|\n",
      "+-----------+---+------+--------------+-----------+---------------------+-------------+----+---------+------+-------------+-------------------+--------------+--------------+----------------+---------------+------------------+------------------------+----------------------+\n",
      "only showing top 20 rows\n",
      "\n"
     ]
    }
   ],
   "source": [
    "#Validating the schema of the Dataframe using inferSchema function\n",
    "shopping_df= spark.read.format('csv').option('inferSchema',True).option('header',True).load('shopping.csv')\n",
    "shopping_df.show()"
   ]
  },
  {
   "cell_type": "code",
   "execution_count": 5,
   "id": "f8795659-b123-4107-b726-05f23f51f50b",
   "metadata": {},
   "outputs": [
    {
     "name": "stdout",
     "output_type": "stream",
     "text": [
      "root\n",
      " |-- Customer ID: integer (nullable = true)\n",
      " |-- Age: integer (nullable = true)\n",
      " |-- Gender: string (nullable = true)\n",
      " |-- Item Purchased: string (nullable = true)\n",
      " |-- Category: string (nullable = true)\n",
      " |-- Purchase Amount (USD): integer (nullable = true)\n",
      " |-- Location: string (nullable = true)\n",
      " |-- Size: string (nullable = true)\n",
      " |-- Color: string (nullable = true)\n",
      " |-- Season: string (nullable = true)\n",
      " |-- Review Rating: double (nullable = true)\n",
      " |-- Subscription Status: string (nullable = true)\n",
      " |-- Payment Method: string (nullable = true)\n",
      " |-- Shipping Type: string (nullable = true)\n",
      " |-- Discount Applied: string (nullable = true)\n",
      " |-- Promo Code Used: string (nullable = true)\n",
      " |-- Previous Purchases: integer (nullable = true)\n",
      " |-- Preferred Payment Method: string (nullable = true)\n",
      " |-- Frequency of Purchases: string (nullable = true)\n",
      "\n"
     ]
    }
   ],
   "source": [
    "#Checking the schema after validation\n",
    "shopping_df.printSchema()"
   ]
  },
  {
   "cell_type": "code",
   "execution_count": 6,
   "id": "73084b91-698f-4c1e-8fce-a1f80d4bfb5c",
   "metadata": {},
   "outputs": [
    {
     "name": "stdout",
     "output_type": "stream",
     "text": [
      "+-------+------------------+-----------------+------+--------------+-----------+---------------------+--------+----+------+------+------------------+-------------------+--------------+--------------+----------------+---------------+------------------+------------------------+----------------------+\n",
      "|summary|       Customer ID|              Age|Gender|Item Purchased|   Category|Purchase Amount (USD)|Location|Size| Color|Season|     Review Rating|Subscription Status|Payment Method| Shipping Type|Discount Applied|Promo Code Used|Previous Purchases|Preferred Payment Method|Frequency of Purchases|\n",
      "+-------+------------------+-----------------+------+--------------+-----------+---------------------+--------+----+------+------+------------------+-------------------+--------------+--------------+----------------+---------------+------------------+------------------------+----------------------+\n",
      "|  count|              3900|             3900|  3900|          3900|       3900|                 3900|    3900|3900|  3900|  3900|              3900|               3900|          3900|          3900|            3900|           3900|              3900|                    3900|                  3900|\n",
      "|   mean|            1950.5|44.06846153846154|  NULL|          NULL|       NULL|    59.76435897435898|    NULL|NULL|  NULL|  NULL| 3.749948717948712|               NULL|          NULL|          NULL|            NULL|           NULL| 25.35153846153846|                    NULL|                  NULL|\n",
      "| stddev|1125.9773532358456|15.20758912716237|  NULL|          NULL|       NULL|   23.685392250875328|    NULL|NULL|  NULL|  NULL|0.7162228139312412|               NULL|          NULL|          NULL|            NULL|           NULL|14.447125170462305|                    NULL|                  NULL|\n",
      "|    min|                 1|               18|Female|      Backpack|Accessories|                   20| Alabama|   L| Beige|  Fall|               2.5|                 No| Bank Transfer|2-Day Shipping|              No|             No|                 1|           Bank Transfer|              Annually|\n",
      "|    max|              3900|               70|  Male|       T-shirt|  Outerwear|                  100| Wyoming|  XL|Yellow|Winter|               5.0|                Yes|         Venmo|  Store Pickup|             Yes|            Yes|                50|                   Venmo|                Weekly|\n",
      "+-------+------------------+-----------------+------+--------------+-----------+---------------------+--------+----+------+------+------------------+-------------------+--------------+--------------+----------------+---------------+------------------+------------------------+----------------------+\n",
      "\n"
     ]
    }
   ],
   "source": [
    "shopping_df.describe().show()"
   ]
  },
  {
   "cell_type": "code",
   "execution_count": 11,
   "id": "e4a2be95-a85c-4874-92ae-99f662915c95",
   "metadata": {},
   "outputs": [
    {
     "name": "stdout",
     "output_type": "stream",
     "text": [
      "+-----------+---+------+--------------+-----------+---------------------+-------------+----+---------+------+-------------+-------------------+--------------+--------------+----------------+---------------+------------------+------------------------+----------------------+\n",
      "|Customer_ID|Age|Gender|Item_Purchased|   Category|Purchase_Amount_(USD)|     Location|Size|    Color|Season|Review_Rating|Subscription_Status|Payment_Method| Shipping_Type|Discount_Applied|Promo_Code_Used|Previous_Purchases|Preferred_Payment_Method|Frequency_of_Purchases|\n",
      "+-----------+---+------+--------------+-----------+---------------------+-------------+----+---------+------+-------------+-------------------+--------------+--------------+----------------+---------------+------------------+------------------------+----------------------+\n",
      "|          1| 55|  Male|        Blouse|   Clothing|                   53|     Kentucky|   L|     Gray|Winter|          3.1|                Yes|   Credit Card|       Express|             Yes|            Yes|                14|                   Venmo|           Fortnightly|\n",
      "|          2| 19|  Male|       Sweater|   Clothing|                   64|        Maine|   L|   Maroon|Winter|          3.1|                Yes| Bank Transfer|       Express|             Yes|            Yes|                 2|                    Cash|           Fortnightly|\n",
      "|          3| 50|  Male|         Jeans|   Clothing|                   73|Massachusetts|   S|   Maroon|Spring|          3.1|                Yes|          Cash| Free Shipping|             Yes|            Yes|                23|             Credit Card|                Weekly|\n",
      "|          4| 21|  Male|       Sandals|   Footwear|                   90| Rhode Island|   M|   Maroon|Spring|          3.5|                Yes|        PayPal|  Next Day Air|             Yes|            Yes|                49|                  PayPal|                Weekly|\n",
      "|          5| 45|  Male|        Blouse|   Clothing|                   49|       Oregon|   M|Turquoise|Spring|          2.7|                Yes|          Cash| Free Shipping|             Yes|            Yes|                31|                  PayPal|              Annually|\n",
      "|          6| 46|  Male|      Sneakers|   Footwear|                   20|      Wyoming|   M|    White|Summer|          2.9|                Yes|         Venmo|      Standard|             Yes|            Yes|                14|                   Venmo|                Weekly|\n",
      "|          7| 63|  Male|         Shirt|   Clothing|                   85|      Montana|   M|     Gray|  Fall|          3.2|                Yes|    Debit Card| Free Shipping|             Yes|            Yes|                49|                    Cash|             Quarterly|\n",
      "|          8| 27|  Male|        Shorts|   Clothing|                   34|    Louisiana|   L| Charcoal|Winter|          3.2|                Yes|    Debit Card| Free Shipping|             Yes|            Yes|                19|             Credit Card|                Weekly|\n",
      "|          9| 26|  Male|          Coat|  Outerwear|                   97|West Virginia|   L|   Silver|Summer|          2.6|                Yes|         Venmo|       Express|             Yes|            Yes|                 8|                   Venmo|              Annually|\n",
      "|         10| 57|  Male|       Handbag|Accessories|                   31|     Missouri|   M|     Pink|Spring|          4.8|                Yes|        PayPal|2-Day Shipping|             Yes|            Yes|                 4|                    Cash|             Quarterly|\n",
      "|         11| 53|  Male|         Shoes|   Footwear|                   34|     Arkansas|   L|   Purple|  Fall|          4.1|                Yes|   Credit Card|  Store Pickup|             Yes|            Yes|                26|           Bank Transfer|             Bi-Weekly|\n",
      "|         12| 30|  Male|        Shorts|   Clothing|                   68|       Hawaii|   S|    Olive|Winter|          4.9|                Yes|        PayPal|  Store Pickup|             Yes|            Yes|                10|           Bank Transfer|           Fortnightly|\n",
      "|         13| 61|  Male|          Coat|  Outerwear|                   72|     Delaware|   M|     Gold|Winter|          4.5|                Yes|        PayPal|       Express|             Yes|            Yes|                37|                   Venmo|           Fortnightly|\n",
      "|         14| 65|  Male|         Dress|   Clothing|                   51|New Hampshire|   M|   Violet|Spring|          4.7|                Yes|    Debit Card|       Express|             Yes|            Yes|                31|                  PayPal|                Weekly|\n",
      "|         15| 64|  Male|          Coat|  Outerwear|                   53|     New York|   L|     Teal|Winter|          4.7|                Yes|        PayPal| Free Shipping|             Yes|            Yes|                34|              Debit Card|                Weekly|\n",
      "|         16| 64|  Male|         Skirt|   Clothing|                   81| Rhode Island|   M|     Teal|Winter|          2.8|                Yes|   Credit Card|  Store Pickup|             Yes|            Yes|                 8|                  PayPal|               Monthly|\n",
      "|         17| 25|  Male|    Sunglasses|Accessories|                   36|      Alabama|   S|     Gray|Spring|          4.1|                Yes|         Venmo|  Next Day Air|             Yes|            Yes|                44|              Debit Card|             Bi-Weekly|\n",
      "|         18| 53|  Male|         Dress|   Clothing|                   38|  Mississippi|  XL| Lavender|Winter|          4.7|                Yes|    Debit Card|2-Day Shipping|             Yes|            Yes|                36|                   Venmo|             Quarterly|\n",
      "|         19| 52|  Male|       Sweater|   Clothing|                   48|      Montana|   S|    Black|Summer|          4.6|                Yes| Bank Transfer| Free Shipping|             Yes|            Yes|                17|                    Cash|                Weekly|\n",
      "|         20| 66|  Male|         Pants|   Clothing|                   90| Rhode Island|   M|    Green|Summer|          3.3|                Yes|         Venmo|      Standard|             Yes|            Yes|                46|              Debit Card|             Bi-Weekly|\n",
      "+-----------+---+------+--------------+-----------+---------------------+-------------+----+---------+------+-------------+-------------------+--------------+--------------+----------------+---------------+------------------+------------------------+----------------------+\n",
      "only showing top 20 rows\n",
      "\n"
     ]
    }
   ],
   "source": [
    "#Renaming the column names using the ColumnRenamed\n",
    "shopping_df = shopping_df.withColumnRenamed(\"Customer ID\", \"Customer_ID\").withColumnRenamed(\"Item Purchased\", \"Item_Purchased\")\\\n",
    ".withColumnRenamed(\"Purchase Amount (USD)\",\"Purchase_Amount_(USD)\")\\\n",
    ".withColumnRenamed(\"Review Rating\",\"Review_Rating\")\\\n",
    ".withColumnRenamed(\"Subscription Status\",\"Subscription_Status\")\\\n",
    ".withColumnRenamed(\"Payment Method\",\"Payment_Method\")\\\n",
    ".withColumnRenamed(\"Shipping Type\", \"Shipping_Type\")\\\n",
    ".withColumnRenamed(\"Discount Applied\", \"Discount_Applied\")\\\n",
    ".withColumnRenamed(\"Promo Code Used\", \"Promo_Code_Used\")\\\n",
    ".withColumnRenamed(\"Previous Purchases\", \"Previous_Purchases\")\\\n",
    ".withColumnRenamed(\"Preferred Payment Method\", \"Preferred_Payment_Method\")\\\n",
    ".withColumnRenamed(\"Frequency of Purchases\", \"Frequency_of_Purchases\")\n",
    "\n",
    "\n",
    "shopping_df.show()"
   ]
  },
  {
   "cell_type": "code",
   "execution_count": 14,
   "id": "11114fda-9aa3-434f-9388-7aa4b48aeb28",
   "metadata": {},
   "outputs": [],
   "source": [
    "#Changing the Datatype of the Columns\n",
    "from pyspark.sql.types import IntegerType,DoubleType\n",
    "shopping_df = shopping_df.withColumn(\"Customer_ID\", shopping_df[\"Customer_ID\"].cast(IntegerType()))\n",
    "shopping_df = shopping_df.withColumn(\"Age\", shopping_df[\"Age\"].cast(IntegerType()))\n",
    "shopping_df = shopping_df.withColumn(\"Purchase_Amount_(USD)\", shopping_df[\"Purchase_Amount_(USD)\"].cast(IntegerType()))\n",
    "shopping_df = shopping_df.withColumn(\"Review_Rating\", shopping_df[\"Review_Rating\"].cast(DoubleType()))\n",
    "shopping_df = shopping_df.withColumn(\"Previous_Purchases\", shopping_df[\"Previous_Purchases\"].cast(IntegerType()))\n",
    "\n"
   ]
  },
  {
   "cell_type": "code",
   "execution_count": 15,
   "id": "48211dcc-dbd5-4a77-b991-06e4efc10796",
   "metadata": {},
   "outputs": [
    {
     "name": "stdout",
     "output_type": "stream",
     "text": [
      "root\n",
      " |-- Customer_ID: integer (nullable = true)\n",
      " |-- Age: integer (nullable = true)\n",
      " |-- Gender: string (nullable = true)\n",
      " |-- Item_Purchased: string (nullable = true)\n",
      " |-- Category: string (nullable = true)\n",
      " |-- Purchase_Amount_(USD): integer (nullable = true)\n",
      " |-- Location: string (nullable = true)\n",
      " |-- Size: string (nullable = true)\n",
      " |-- Color: string (nullable = true)\n",
      " |-- Season: string (nullable = true)\n",
      " |-- Review_Rating: double (nullable = true)\n",
      " |-- Subscription_Status: string (nullable = true)\n",
      " |-- Payment_Method: string (nullable = true)\n",
      " |-- Shipping_Type: string (nullable = true)\n",
      " |-- Discount_Applied: string (nullable = true)\n",
      " |-- Promo_Code_Used: string (nullable = true)\n",
      " |-- Previous_Purchases: integer (nullable = true)\n",
      " |-- Preferred_Payment_Method: string (nullable = true)\n",
      " |-- Frequency_of_Purchases: string (nullable = true)\n",
      "\n"
     ]
    }
   ],
   "source": [
    "shopping_df.printSchema()"
   ]
  },
  {
   "cell_type": "code",
   "execution_count": 16,
   "id": "7c0bb1c2-8faa-4ab3-bf46-68a199817ffb",
   "metadata": {},
   "outputs": [
    {
     "name": "stdout",
     "output_type": "stream",
     "text": [
      "+-----------+---+------+--------------+-----------+---------------------+-------------+----+---------+------+-------------+-------------------+--------------+--------------+----------------+---------------+------------------+------------------------+----------------------+\n",
      "|Customer_ID|Age|Gender|Item_Purchased|   Category|Purchase_Amount_(USD)|     Location|Size|    Color|Season|Review_Rating|Subscription_Status|Payment_Method| Shipping_Type|Discount_Applied|Promo_Code_Used|Previous_Purchases|Preferred_Payment_Method|Frequency_of_Purchases|\n",
      "+-----------+---+------+--------------+-----------+---------------------+-------------+----+---------+------+-------------+-------------------+--------------+--------------+----------------+---------------+------------------+------------------------+----------------------+\n",
      "|          1| 55|  Male|        Blouse|   Clothing|                   53|     Kentucky|   L|     Gray|Winter|          3.1|                Yes|   Credit Card|       Express|             Yes|            Yes|                14|                   Venmo|           Fortnightly|\n",
      "|          2| 19|  Male|       Sweater|   Clothing|                   64|        Maine|   L|   Maroon|Winter|          3.1|                Yes| Bank Transfer|       Express|             Yes|            Yes|                 2|                    Cash|           Fortnightly|\n",
      "|          3| 50|  Male|         Jeans|   Clothing|                   73|Massachusetts|   S|   Maroon|Spring|          3.1|                Yes|          Cash| Free Shipping|             Yes|            Yes|                23|             Credit Card|                Weekly|\n",
      "|          4| 21|  Male|       Sandals|   Footwear|                   90| Rhode Island|   M|   Maroon|Spring|          3.5|                Yes|        PayPal|  Next Day Air|             Yes|            Yes|                49|                  PayPal|                Weekly|\n",
      "|          5| 45|  Male|        Blouse|   Clothing|                   49|       Oregon|   M|Turquoise|Spring|          2.7|                Yes|          Cash| Free Shipping|             Yes|            Yes|                31|                  PayPal|              Annually|\n",
      "|          6| 46|  Male|      Sneakers|   Footwear|                   20|      Wyoming|   M|    White|Summer|          2.9|                Yes|         Venmo|      Standard|             Yes|            Yes|                14|                   Venmo|                Weekly|\n",
      "|          7| 63|  Male|         Shirt|   Clothing|                   85|      Montana|   M|     Gray|  Fall|          3.2|                Yes|    Debit Card| Free Shipping|             Yes|            Yes|                49|                    Cash|             Quarterly|\n",
      "|          8| 27|  Male|        Shorts|   Clothing|                   34|    Louisiana|   L| Charcoal|Winter|          3.2|                Yes|    Debit Card| Free Shipping|             Yes|            Yes|                19|             Credit Card|                Weekly|\n",
      "|          9| 26|  Male|          Coat|  Outerwear|                   97|West Virginia|   L|   Silver|Summer|          2.6|                Yes|         Venmo|       Express|             Yes|            Yes|                 8|                   Venmo|              Annually|\n",
      "|         10| 57|  Male|       Handbag|Accessories|                   31|     Missouri|   M|     Pink|Spring|          4.8|                Yes|        PayPal|2-Day Shipping|             Yes|            Yes|                 4|                    Cash|             Quarterly|\n",
      "|         11| 53|  Male|         Shoes|   Footwear|                   34|     Arkansas|   L|   Purple|  Fall|          4.1|                Yes|   Credit Card|  Store Pickup|             Yes|            Yes|                26|           Bank Transfer|             Bi-Weekly|\n",
      "|         12| 30|  Male|        Shorts|   Clothing|                   68|       Hawaii|   S|    Olive|Winter|          4.9|                Yes|        PayPal|  Store Pickup|             Yes|            Yes|                10|           Bank Transfer|           Fortnightly|\n",
      "|         13| 61|  Male|          Coat|  Outerwear|                   72|     Delaware|   M|     Gold|Winter|          4.5|                Yes|        PayPal|       Express|             Yes|            Yes|                37|                   Venmo|           Fortnightly|\n",
      "|         14| 65|  Male|         Dress|   Clothing|                   51|New Hampshire|   M|   Violet|Spring|          4.7|                Yes|    Debit Card|       Express|             Yes|            Yes|                31|                  PayPal|                Weekly|\n",
      "|         15| 64|  Male|          Coat|  Outerwear|                   53|     New York|   L|     Teal|Winter|          4.7|                Yes|        PayPal| Free Shipping|             Yes|            Yes|                34|              Debit Card|                Weekly|\n",
      "|         16| 64|  Male|         Skirt|   Clothing|                   81| Rhode Island|   M|     Teal|Winter|          2.8|                Yes|   Credit Card|  Store Pickup|             Yes|            Yes|                 8|                  PayPal|               Monthly|\n",
      "|         17| 25|  Male|    Sunglasses|Accessories|                   36|      Alabama|   S|     Gray|Spring|          4.1|                Yes|         Venmo|  Next Day Air|             Yes|            Yes|                44|              Debit Card|             Bi-Weekly|\n",
      "|         18| 53|  Male|         Dress|   Clothing|                   38|  Mississippi|  XL| Lavender|Winter|          4.7|                Yes|    Debit Card|2-Day Shipping|             Yes|            Yes|                36|                   Venmo|             Quarterly|\n",
      "|         19| 52|  Male|       Sweater|   Clothing|                   48|      Montana|   S|    Black|Summer|          4.6|                Yes| Bank Transfer| Free Shipping|             Yes|            Yes|                17|                    Cash|                Weekly|\n",
      "|         20| 66|  Male|         Pants|   Clothing|                   90| Rhode Island|   M|    Green|Summer|          3.3|                Yes|         Venmo|      Standard|             Yes|            Yes|                46|              Debit Card|             Bi-Weekly|\n",
      "+-----------+---+------+--------------+-----------+---------------------+-------------+----+---------+------+-------------+-------------------+--------------+--------------+----------------+---------------+------------------+------------------------+----------------------+\n",
      "only showing top 20 rows\n",
      "\n"
     ]
    }
   ],
   "source": [
    "ecommerce_df.show()"
   ]
  },
  {
   "cell_type": "code",
   "execution_count": 21,
   "id": "a8468de8-2206-4bd0-98ca-06700c058d5c",
   "metadata": {},
   "outputs": [
    {
     "name": "stdout",
     "output_type": "stream",
     "text": [
      "+-----------+---+------+--------------+--------+---------------------+--------+----+-----+------+-------------+-------------------+--------------+-------------+----------------+---------------+------------------+------------------------+----------------------+\n",
      "|Customer_ID|Age|Gender|Item_Purchased|Category|Purchase_Amount_(USD)|Location|Size|Color|Season|Review_Rating|Subscription_Status|Payment_Method|Shipping_Type|Discount_Applied|Promo_Code_Used|Previous_Purchases|Preferred_Payment_Method|Frequency_of_Purchases|\n",
      "+-----------+---+------+--------------+--------+---------------------+--------+----+-----+------+-------------+-------------------+--------------+-------------+----------------+---------------+------------------+------------------------+----------------------+\n",
      "+-----------+---+------+--------------+--------+---------------------+--------+----+-----+------+-------------+-------------------+--------------+-------------+----------------+---------------+------------------+------------------------+----------------------+\n",
      "\n",
      "+-----------+---+------+--------------+--------+---------------------+--------+----+-----+------+-------------+-------------------+--------------+-------------+----------------+---------------+------------------+------------------------+----------------------+\n",
      "|Customer_ID|Age|Gender|Item_Purchased|Category|Purchase_Amount_(USD)|Location|Size|Color|Season|Review_Rating|Subscription_Status|Payment_Method|Shipping_Type|Discount_Applied|Promo_Code_Used|Previous_Purchases|Preferred_Payment_Method|Frequency_of_Purchases|\n",
      "+-----------+---+------+--------------+--------+---------------------+--------+----+-----+------+-------------+-------------------+--------------+-------------+----------------+---------------+------------------+------------------------+----------------------+\n",
      "+-----------+---+------+--------------+--------+---------------------+--------+----+-----+------+-------------+-------------------+--------------+-------------+----------------+---------------+------------------+------------------------+----------------------+\n",
      "\n",
      "+-----------+---+------+--------------+--------+---------------------+--------+----+-----+------+-------------+-------------------+--------------+-------------+----------------+---------------+------------------+------------------------+----------------------+\n",
      "|Customer_ID|Age|Gender|Item_Purchased|Category|Purchase_Amount_(USD)|Location|Size|Color|Season|Review_Rating|Subscription_Status|Payment_Method|Shipping_Type|Discount_Applied|Promo_Code_Used|Previous_Purchases|Preferred_Payment_Method|Frequency_of_Purchases|\n",
      "+-----------+---+------+--------------+--------+---------------------+--------+----+-----+------+-------------+-------------------+--------------+-------------+----------------+---------------+------------------+------------------------+----------------------+\n",
      "+-----------+---+------+--------------+--------+---------------------+--------+----+-----+------+-------------+-------------------+--------------+-------------+----------------+---------------+------------------+------------------------+----------------------+\n",
      "\n",
      "+-----------+---+------+--------------+--------+---------------------+--------+----+-----+------+-------------+-------------------+--------------+-------------+----------------+---------------+------------------+------------------------+----------------------+\n",
      "|Customer_ID|Age|Gender|Item_Purchased|Category|Purchase_Amount_(USD)|Location|Size|Color|Season|Review_Rating|Subscription_Status|Payment_Method|Shipping_Type|Discount_Applied|Promo_Code_Used|Previous_Purchases|Preferred_Payment_Method|Frequency_of_Purchases|\n",
      "+-----------+---+------+--------------+--------+---------------------+--------+----+-----+------+-------------+-------------------+--------------+-------------+----------------+---------------+------------------+------------------------+----------------------+\n",
      "+-----------+---+------+--------------+--------+---------------------+--------+----+-----+------+-------------+-------------------+--------------+-------------+----------------+---------------+------------------+------------------------+----------------------+\n",
      "\n",
      "+-----------+---+------+--------------+--------+---------------------+--------+----+-----+------+-------------+-------------------+--------------+-------------+----------------+---------------+------------------+------------------------+----------------------+\n",
      "|Customer_ID|Age|Gender|Item_Purchased|Category|Purchase_Amount_(USD)|Location|Size|Color|Season|Review_Rating|Subscription_Status|Payment_Method|Shipping_Type|Discount_Applied|Promo_Code_Used|Previous_Purchases|Preferred_Payment_Method|Frequency_of_Purchases|\n",
      "+-----------+---+------+--------------+--------+---------------------+--------+----+-----+------+-------------+-------------------+--------------+-------------+----------------+---------------+------------------+------------------------+----------------------+\n",
      "+-----------+---+------+--------------+--------+---------------------+--------+----+-----+------+-------------+-------------------+--------------+-------------+----------------+---------------+------------------+------------------------+----------------------+\n",
      "\n",
      "+-----------+---+------+--------------+--------+---------------------+--------+----+-----+------+-------------+-------------------+--------------+-------------+----------------+---------------+------------------+------------------------+----------------------+\n",
      "|Customer_ID|Age|Gender|Item_Purchased|Category|Purchase_Amount_(USD)|Location|Size|Color|Season|Review_Rating|Subscription_Status|Payment_Method|Shipping_Type|Discount_Applied|Promo_Code_Used|Previous_Purchases|Preferred_Payment_Method|Frequency_of_Purchases|\n",
      "+-----------+---+------+--------------+--------+---------------------+--------+----+-----+------+-------------+-------------------+--------------+-------------+----------------+---------------+------------------+------------------------+----------------------+\n",
      "+-----------+---+------+--------------+--------+---------------------+--------+----+-----+------+-------------+-------------------+--------------+-------------+----------------+---------------+------------------+------------------------+----------------------+\n",
      "\n",
      "+-----------+---+------+--------------+--------+---------------------+--------+----+-----+------+-------------+-------------------+--------------+-------------+----------------+---------------+------------------+------------------------+----------------------+\n",
      "|Customer_ID|Age|Gender|Item_Purchased|Category|Purchase_Amount_(USD)|Location|Size|Color|Season|Review_Rating|Subscription_Status|Payment_Method|Shipping_Type|Discount_Applied|Promo_Code_Used|Previous_Purchases|Preferred_Payment_Method|Frequency_of_Purchases|\n",
      "+-----------+---+------+--------------+--------+---------------------+--------+----+-----+------+-------------+-------------------+--------------+-------------+----------------+---------------+------------------+------------------------+----------------------+\n",
      "+-----------+---+------+--------------+--------+---------------------+--------+----+-----+------+-------------+-------------------+--------------+-------------+----------------+---------------+------------------+------------------------+----------------------+\n",
      "\n",
      "+-----------+---+------+--------------+--------+---------------------+--------+----+-----+------+-------------+-------------------+--------------+-------------+----------------+---------------+------------------+------------------------+----------------------+\n",
      "|Customer_ID|Age|Gender|Item_Purchased|Category|Purchase_Amount_(USD)|Location|Size|Color|Season|Review_Rating|Subscription_Status|Payment_Method|Shipping_Type|Discount_Applied|Promo_Code_Used|Previous_Purchases|Preferred_Payment_Method|Frequency_of_Purchases|\n",
      "+-----------+---+------+--------------+--------+---------------------+--------+----+-----+------+-------------+-------------------+--------------+-------------+----------------+---------------+------------------+------------------------+----------------------+\n",
      "+-----------+---+------+--------------+--------+---------------------+--------+----+-----+------+-------------+-------------------+--------------+-------------+----------------+---------------+------------------+------------------------+----------------------+\n",
      "\n",
      "+-----------+---+------+--------------+--------+---------------------+--------+----+-----+------+-------------+-------------------+--------------+-------------+----------------+---------------+------------------+------------------------+----------------------+\n",
      "|Customer_ID|Age|Gender|Item_Purchased|Category|Purchase_Amount_(USD)|Location|Size|Color|Season|Review_Rating|Subscription_Status|Payment_Method|Shipping_Type|Discount_Applied|Promo_Code_Used|Previous_Purchases|Preferred_Payment_Method|Frequency_of_Purchases|\n",
      "+-----------+---+------+--------------+--------+---------------------+--------+----+-----+------+-------------+-------------------+--------------+-------------+----------------+---------------+------------------+------------------------+----------------------+\n",
      "+-----------+---+------+--------------+--------+---------------------+--------+----+-----+------+-------------+-------------------+--------------+-------------+----------------+---------------+------------------+------------------------+----------------------+\n",
      "\n",
      "+-----------+---+------+--------------+--------+---------------------+--------+----+-----+------+-------------+-------------------+--------------+-------------+----------------+---------------+------------------+------------------------+----------------------+\n",
      "|Customer_ID|Age|Gender|Item_Purchased|Category|Purchase_Amount_(USD)|Location|Size|Color|Season|Review_Rating|Subscription_Status|Payment_Method|Shipping_Type|Discount_Applied|Promo_Code_Used|Previous_Purchases|Preferred_Payment_Method|Frequency_of_Purchases|\n",
      "+-----------+---+------+--------------+--------+---------------------+--------+----+-----+------+-------------+-------------------+--------------+-------------+----------------+---------------+------------------+------------------------+----------------------+\n",
      "+-----------+---+------+--------------+--------+---------------------+--------+----+-----+------+-------------+-------------------+--------------+-------------+----------------+---------------+------------------+------------------------+----------------------+\n",
      "\n",
      "+-----------+---+------+--------------+--------+---------------------+--------+----+-----+------+-------------+-------------------+--------------+-------------+----------------+---------------+------------------+------------------------+----------------------+\n",
      "|Customer_ID|Age|Gender|Item_Purchased|Category|Purchase_Amount_(USD)|Location|Size|Color|Season|Review_Rating|Subscription_Status|Payment_Method|Shipping_Type|Discount_Applied|Promo_Code_Used|Previous_Purchases|Preferred_Payment_Method|Frequency_of_Purchases|\n",
      "+-----------+---+------+--------------+--------+---------------------+--------+----+-----+------+-------------+-------------------+--------------+-------------+----------------+---------------+------------------+------------------------+----------------------+\n",
      "+-----------+---+------+--------------+--------+---------------------+--------+----+-----+------+-------------+-------------------+--------------+-------------+----------------+---------------+------------------+------------------------+----------------------+\n",
      "\n",
      "+-----------+---+------+--------------+--------+---------------------+--------+----+-----+------+-------------+-------------------+--------------+-------------+----------------+---------------+------------------+------------------------+----------------------+\n",
      "|Customer_ID|Age|Gender|Item_Purchased|Category|Purchase_Amount_(USD)|Location|Size|Color|Season|Review_Rating|Subscription_Status|Payment_Method|Shipping_Type|Discount_Applied|Promo_Code_Used|Previous_Purchases|Preferred_Payment_Method|Frequency_of_Purchases|\n",
      "+-----------+---+------+--------------+--------+---------------------+--------+----+-----+------+-------------+-------------------+--------------+-------------+----------------+---------------+------------------+------------------------+----------------------+\n",
      "+-----------+---+------+--------------+--------+---------------------+--------+----+-----+------+-------------+-------------------+--------------+-------------+----------------+---------------+------------------+------------------------+----------------------+\n",
      "\n",
      "+-----------+---+------+--------------+--------+---------------------+--------+----+-----+------+-------------+-------------------+--------------+-------------+----------------+---------------+------------------+------------------------+----------------------+\n",
      "|Customer_ID|Age|Gender|Item_Purchased|Category|Purchase_Amount_(USD)|Location|Size|Color|Season|Review_Rating|Subscription_Status|Payment_Method|Shipping_Type|Discount_Applied|Promo_Code_Used|Previous_Purchases|Preferred_Payment_Method|Frequency_of_Purchases|\n",
      "+-----------+---+------+--------------+--------+---------------------+--------+----+-----+------+-------------+-------------------+--------------+-------------+----------------+---------------+------------------+------------------------+----------------------+\n",
      "+-----------+---+------+--------------+--------+---------------------+--------+----+-----+------+-------------+-------------------+--------------+-------------+----------------+---------------+------------------+------------------------+----------------------+\n",
      "\n",
      "+-----------+---+------+--------------+--------+---------------------+--------+----+-----+------+-------------+-------------------+--------------+-------------+----------------+---------------+------------------+------------------------+----------------------+\n",
      "|Customer_ID|Age|Gender|Item_Purchased|Category|Purchase_Amount_(USD)|Location|Size|Color|Season|Review_Rating|Subscription_Status|Payment_Method|Shipping_Type|Discount_Applied|Promo_Code_Used|Previous_Purchases|Preferred_Payment_Method|Frequency_of_Purchases|\n",
      "+-----------+---+------+--------------+--------+---------------------+--------+----+-----+------+-------------+-------------------+--------------+-------------+----------------+---------------+------------------+------------------------+----------------------+\n",
      "+-----------+---+------+--------------+--------+---------------------+--------+----+-----+------+-------------+-------------------+--------------+-------------+----------------+---------------+------------------+------------------------+----------------------+\n",
      "\n",
      "+-----------+---+------+--------------+--------+---------------------+--------+----+-----+------+-------------+-------------------+--------------+-------------+----------------+---------------+------------------+------------------------+----------------------+\n",
      "|Customer_ID|Age|Gender|Item_Purchased|Category|Purchase_Amount_(USD)|Location|Size|Color|Season|Review_Rating|Subscription_Status|Payment_Method|Shipping_Type|Discount_Applied|Promo_Code_Used|Previous_Purchases|Preferred_Payment_Method|Frequency_of_Purchases|\n",
      "+-----------+---+------+--------------+--------+---------------------+--------+----+-----+------+-------------+-------------------+--------------+-------------+----------------+---------------+------------------+------------------------+----------------------+\n",
      "+-----------+---+------+--------------+--------+---------------------+--------+----+-----+------+-------------+-------------------+--------------+-------------+----------------+---------------+------------------+------------------------+----------------------+\n",
      "\n",
      "+-----------+---+------+--------------+--------+---------------------+--------+----+-----+------+-------------+-------------------+--------------+-------------+----------------+---------------+------------------+------------------------+----------------------+\n",
      "|Customer_ID|Age|Gender|Item_Purchased|Category|Purchase_Amount_(USD)|Location|Size|Color|Season|Review_Rating|Subscription_Status|Payment_Method|Shipping_Type|Discount_Applied|Promo_Code_Used|Previous_Purchases|Preferred_Payment_Method|Frequency_of_Purchases|\n",
      "+-----------+---+------+--------------+--------+---------------------+--------+----+-----+------+-------------+-------------------+--------------+-------------+----------------+---------------+------------------+------------------------+----------------------+\n",
      "+-----------+---+------+--------------+--------+---------------------+--------+----+-----+------+-------------+-------------------+--------------+-------------+----------------+---------------+------------------+------------------------+----------------------+\n",
      "\n",
      "+-----------+---+------+--------------+--------+---------------------+--------+----+-----+------+-------------+-------------------+--------------+-------------+----------------+---------------+------------------+------------------------+----------------------+\n",
      "|Customer_ID|Age|Gender|Item_Purchased|Category|Purchase_Amount_(USD)|Location|Size|Color|Season|Review_Rating|Subscription_Status|Payment_Method|Shipping_Type|Discount_Applied|Promo_Code_Used|Previous_Purchases|Preferred_Payment_Method|Frequency_of_Purchases|\n",
      "+-----------+---+------+--------------+--------+---------------------+--------+----+-----+------+-------------+-------------------+--------------+-------------+----------------+---------------+------------------+------------------------+----------------------+\n",
      "+-----------+---+------+--------------+--------+---------------------+--------+----+-----+------+-------------+-------------------+--------------+-------------+----------------+---------------+------------------+------------------------+----------------------+\n",
      "\n",
      "+-----------+---+------+--------------+--------+---------------------+--------+----+-----+------+-------------+-------------------+--------------+-------------+----------------+---------------+------------------+------------------------+----------------------+\n",
      "|Customer_ID|Age|Gender|Item_Purchased|Category|Purchase_Amount_(USD)|Location|Size|Color|Season|Review_Rating|Subscription_Status|Payment_Method|Shipping_Type|Discount_Applied|Promo_Code_Used|Previous_Purchases|Preferred_Payment_Method|Frequency_of_Purchases|\n",
      "+-----------+---+------+--------------+--------+---------------------+--------+----+-----+------+-------------+-------------------+--------------+-------------+----------------+---------------+------------------+------------------------+----------------------+\n",
      "+-----------+---+------+--------------+--------+---------------------+--------+----+-----+------+-------------+-------------------+--------------+-------------+----------------+---------------+------------------+------------------------+----------------------+\n",
      "\n"
     ]
    }
   ],
   "source": [
    "from pyspark.sql.functions import col\n",
    "shopping_df.filter(shopping_df.Customer_ID.isNull()).show()\n",
    "shopping_df.filter(shopping_df.Age.isNull()).show()\n",
    "shopping_df.filter(shopping_df.Gender.isNull()).show()\n",
    "shopping_df.filter(shopping_df.Item_Purchased.isNull()).show()\n",
    "shopping_df.filter(shopping_df.Category.isNull()).show()\n",
    "shopping_df.filter(shopping_df.Promo_Code_Used.isNull()).show()\n",
    "shopping_df.filter(shopping_df.Location.isNull()).show()\n",
    "shopping_df.filter(shopping_df.Size.isNull()).show()\n",
    "shopping_df.filter(shopping_df.Color.isNull()).show()\n",
    "shopping_df.filter(shopping_df.Season.isNull()).show()\n",
    "shopping_df.filter(shopping_df.Review_Rating.isNull()).show()\n",
    "shopping_df.filter(shopping_df.Subscription_Status.isNull()).show()\n",
    "shopping_df.filter(shopping_df.Payment_Method.isNull()).show()\n",
    "shopping_df.filter(shopping_df.Shipping_Type.isNull()).show()\n",
    "shopping_df.filter(shopping_df.Discount_Applied.isNull()).show()\n",
    "shopping_df.filter(shopping_df.Previous_Purchases.isNull()).show()\n",
    "shopping_df.filter(shopping_df.Preferred_Payment_Method.isNull()).show()\n",
    "shopping_df.filter(shopping_df.Frequency_of_Purchases.isNull()).show()"
   ]
  },
  {
   "cell_type": "code",
   "execution_count": 23,
   "id": "1455e370-3963-4da4-a840-0a6c2d15e8fc",
   "metadata": {},
   "outputs": [],
   "source": [
    "shopping_dfw = shopping_df.dropna(subset=[\"Review_Rating\"], how = 'any' )"
   ]
  },
  {
   "cell_type": "code",
   "execution_count": 26,
   "id": "71ec74bf-e338-4c86-9ed7-ecb9ff4f7bfd",
   "metadata": {},
   "outputs": [
    {
     "name": "stdout",
     "output_type": "stream",
     "text": [
      "+-----------+---+------+--------------+-----------+---------------------+-------------+----+---------+------+-------------+-------------------+--------------+--------------+----------------+---------------+------------------+------------------------+----------------------+--------------------+\n",
      "|Customer_ID|Age|Gender|Item_Purchased|   Category|Purchase_Amount_(USD)|     Location|Size|    Color|Season|Review_Rating|Subscription_Status|Payment_Method| Shipping_Type|Discount_Applied|Promo_Code_Used|Previous_Purchases|Preferred_Payment_Method|Frequency_of_Purchases|      Ingestion_Date|\n",
      "+-----------+---+------+--------------+-----------+---------------------+-------------+----+---------+------+-------------+-------------------+--------------+--------------+----------------+---------------+------------------+------------------------+----------------------+--------------------+\n",
      "|          1| 55|  Male|        Blouse|   Clothing|                   53|     Kentucky|   L|     Gray|Winter|          3.1|                Yes|   Credit Card|       Express|             Yes|            Yes|                14|                   Venmo|           Fortnightly|2023-12-02 17:25:...|\n",
      "|          2| 19|  Male|       Sweater|   Clothing|                   64|        Maine|   L|   Maroon|Winter|          3.1|                Yes| Bank Transfer|       Express|             Yes|            Yes|                 2|                    Cash|           Fortnightly|2023-12-02 17:25:...|\n",
      "|          3| 50|  Male|         Jeans|   Clothing|                   73|Massachusetts|   S|   Maroon|Spring|          3.1|                Yes|          Cash| Free Shipping|             Yes|            Yes|                23|             Credit Card|                Weekly|2023-12-02 17:25:...|\n",
      "|          4| 21|  Male|       Sandals|   Footwear|                   90| Rhode Island|   M|   Maroon|Spring|          3.5|                Yes|        PayPal|  Next Day Air|             Yes|            Yes|                49|                  PayPal|                Weekly|2023-12-02 17:25:...|\n",
      "|          5| 45|  Male|        Blouse|   Clothing|                   49|       Oregon|   M|Turquoise|Spring|          2.7|                Yes|          Cash| Free Shipping|             Yes|            Yes|                31|                  PayPal|              Annually|2023-12-02 17:25:...|\n",
      "|          6| 46|  Male|      Sneakers|   Footwear|                   20|      Wyoming|   M|    White|Summer|          2.9|                Yes|         Venmo|      Standard|             Yes|            Yes|                14|                   Venmo|                Weekly|2023-12-02 17:25:...|\n",
      "|          7| 63|  Male|         Shirt|   Clothing|                   85|      Montana|   M|     Gray|  Fall|          3.2|                Yes|    Debit Card| Free Shipping|             Yes|            Yes|                49|                    Cash|             Quarterly|2023-12-02 17:25:...|\n",
      "|          8| 27|  Male|        Shorts|   Clothing|                   34|    Louisiana|   L| Charcoal|Winter|          3.2|                Yes|    Debit Card| Free Shipping|             Yes|            Yes|                19|             Credit Card|                Weekly|2023-12-02 17:25:...|\n",
      "|          9| 26|  Male|          Coat|  Outerwear|                   97|West Virginia|   L|   Silver|Summer|          2.6|                Yes|         Venmo|       Express|             Yes|            Yes|                 8|                   Venmo|              Annually|2023-12-02 17:25:...|\n",
      "|         10| 57|  Male|       Handbag|Accessories|                   31|     Missouri|   M|     Pink|Spring|          4.8|                Yes|        PayPal|2-Day Shipping|             Yes|            Yes|                 4|                    Cash|             Quarterly|2023-12-02 17:25:...|\n",
      "|         11| 53|  Male|         Shoes|   Footwear|                   34|     Arkansas|   L|   Purple|  Fall|          4.1|                Yes|   Credit Card|  Store Pickup|             Yes|            Yes|                26|           Bank Transfer|             Bi-Weekly|2023-12-02 17:25:...|\n",
      "|         12| 30|  Male|        Shorts|   Clothing|                   68|       Hawaii|   S|    Olive|Winter|          4.9|                Yes|        PayPal|  Store Pickup|             Yes|            Yes|                10|           Bank Transfer|           Fortnightly|2023-12-02 17:25:...|\n",
      "|         13| 61|  Male|          Coat|  Outerwear|                   72|     Delaware|   M|     Gold|Winter|          4.5|                Yes|        PayPal|       Express|             Yes|            Yes|                37|                   Venmo|           Fortnightly|2023-12-02 17:25:...|\n",
      "|         14| 65|  Male|         Dress|   Clothing|                   51|New Hampshire|   M|   Violet|Spring|          4.7|                Yes|    Debit Card|       Express|             Yes|            Yes|                31|                  PayPal|                Weekly|2023-12-02 17:25:...|\n",
      "|         15| 64|  Male|          Coat|  Outerwear|                   53|     New York|   L|     Teal|Winter|          4.7|                Yes|        PayPal| Free Shipping|             Yes|            Yes|                34|              Debit Card|                Weekly|2023-12-02 17:25:...|\n",
      "|         16| 64|  Male|         Skirt|   Clothing|                   81| Rhode Island|   M|     Teal|Winter|          2.8|                Yes|   Credit Card|  Store Pickup|             Yes|            Yes|                 8|                  PayPal|               Monthly|2023-12-02 17:25:...|\n",
      "|         17| 25|  Male|    Sunglasses|Accessories|                   36|      Alabama|   S|     Gray|Spring|          4.1|                Yes|         Venmo|  Next Day Air|             Yes|            Yes|                44|              Debit Card|             Bi-Weekly|2023-12-02 17:25:...|\n",
      "|         18| 53|  Male|         Dress|   Clothing|                   38|  Mississippi|  XL| Lavender|Winter|          4.7|                Yes|    Debit Card|2-Day Shipping|             Yes|            Yes|                36|                   Venmo|             Quarterly|2023-12-02 17:25:...|\n",
      "|         19| 52|  Male|       Sweater|   Clothing|                   48|      Montana|   S|    Black|Summer|          4.6|                Yes| Bank Transfer| Free Shipping|             Yes|            Yes|                17|                    Cash|                Weekly|2023-12-02 17:25:...|\n",
      "|         20| 66|  Male|         Pants|   Clothing|                   90| Rhode Island|   M|    Green|Summer|          3.3|                Yes|         Venmo|      Standard|             Yes|            Yes|                46|              Debit Card|             Bi-Weekly|2023-12-02 17:25:...|\n",
      "+-----------+---+------+--------------+-----------+---------------------+-------------+----+---------+------+-------------+-------------------+--------------+--------------+----------------+---------------+------------------+------------------------+----------------------+--------------------+\n",
      "only showing top 20 rows\n",
      "\n"
     ]
    }
   ],
   "source": [
    "from pyspark.sql.functions import current_timestamp\n",
    "shopping_in = shopping_dfw.withColumn(\"Ingestion_Date\",current_timestamp())\n",
    "shopping_in.show()"
   ]
  },
  {
   "cell_type": "code",
   "execution_count": 36,
   "id": "51df9b11-ac67-4c74-83c2-eff9868003c1",
   "metadata": {},
   "outputs": [
    {
     "name": "stdout",
     "output_type": "stream",
     "text": [
      "+-----------+---------------+---------------------+---+------+--------------+-----------+----------------+-------------+----+---------+------+-------------+-------------------+--------------+--------------+------------------+------------------------+----------------------+--------------------+\n",
      "|Customer_ID|Promo_Code_Used|Purchase_Amount_(USD)|Age|Gender|Item_Purchased|   Category|Discount_Applied|     Location|Size|    Color|Season|Review_Rating|Subscription_Status|Payment_Method| Shipping_Type|Previous_Purchases|Preferred_Payment_Method|Frequency_of_Purchases|      Ingestion_Date|\n",
      "+-----------+---------------+---------------------+---+------+--------------+-----------+----------------+-------------+----+---------+------+-------------+-------------------+--------------+--------------+------------------+------------------------+----------------------+--------------------+\n",
      "|          1|            Yes|                 NULL| 55|  Male|        Blouse|   Clothing|             Yes|     Kentucky|   L|     Gray|Winter|          3.1|                Yes|   Credit Card|       Express|                14|                   Venmo|           Fortnightly|2023-12-02 17:42:...|\n",
      "|          2|            Yes|                 NULL| 19|  Male|       Sweater|   Clothing|             Yes|        Maine|   L|   Maroon|Winter|          3.1|                Yes| Bank Transfer|       Express|                 2|                    Cash|           Fortnightly|2023-12-02 17:42:...|\n",
      "|          3|            Yes|                 NULL| 50|  Male|         Jeans|   Clothing|             Yes|Massachusetts|   S|   Maroon|Spring|          3.1|                Yes|          Cash| Free Shipping|                23|             Credit Card|                Weekly|2023-12-02 17:42:...|\n",
      "|          4|            Yes|                 NULL| 21|  Male|       Sandals|   Footwear|             Yes| Rhode Island|   M|   Maroon|Spring|          3.5|                Yes|        PayPal|  Next Day Air|                49|                  PayPal|                Weekly|2023-12-02 17:42:...|\n",
      "|          5|            Yes|                 NULL| 45|  Male|        Blouse|   Clothing|             Yes|       Oregon|   M|Turquoise|Spring|          2.7|                Yes|          Cash| Free Shipping|                31|                  PayPal|              Annually|2023-12-02 17:42:...|\n",
      "|          6|            Yes|                 NULL| 46|  Male|      Sneakers|   Footwear|             Yes|      Wyoming|   M|    White|Summer|          2.9|                Yes|         Venmo|      Standard|                14|                   Venmo|                Weekly|2023-12-02 17:42:...|\n",
      "|          7|            Yes|                 NULL| 63|  Male|         Shirt|   Clothing|             Yes|      Montana|   M|     Gray|  Fall|          3.2|                Yes|    Debit Card| Free Shipping|                49|                    Cash|             Quarterly|2023-12-02 17:42:...|\n",
      "|          8|            Yes|                 NULL| 27|  Male|        Shorts|   Clothing|             Yes|    Louisiana|   L| Charcoal|Winter|          3.2|                Yes|    Debit Card| Free Shipping|                19|             Credit Card|                Weekly|2023-12-02 17:42:...|\n",
      "|          9|            Yes|                 NULL| 26|  Male|          Coat|  Outerwear|             Yes|West Virginia|   L|   Silver|Summer|          2.6|                Yes|         Venmo|       Express|                 8|                   Venmo|              Annually|2023-12-02 17:42:...|\n",
      "|         10|            Yes|                 NULL| 57|  Male|       Handbag|Accessories|             Yes|     Missouri|   M|     Pink|Spring|          4.8|                Yes|        PayPal|2-Day Shipping|                 4|                    Cash|             Quarterly|2023-12-02 17:42:...|\n",
      "|         11|            Yes|                 NULL| 53|  Male|         Shoes|   Footwear|             Yes|     Arkansas|   L|   Purple|  Fall|          4.1|                Yes|   Credit Card|  Store Pickup|                26|           Bank Transfer|             Bi-Weekly|2023-12-02 17:42:...|\n",
      "|         12|            Yes|                 NULL| 30|  Male|        Shorts|   Clothing|             Yes|       Hawaii|   S|    Olive|Winter|          4.9|                Yes|        PayPal|  Store Pickup|                10|           Bank Transfer|           Fortnightly|2023-12-02 17:42:...|\n",
      "|         13|            Yes|                 NULL| 61|  Male|          Coat|  Outerwear|             Yes|     Delaware|   M|     Gold|Winter|          4.5|                Yes|        PayPal|       Express|                37|                   Venmo|           Fortnightly|2023-12-02 17:42:...|\n",
      "|         14|            Yes|                 NULL| 65|  Male|         Dress|   Clothing|             Yes|New Hampshire|   M|   Violet|Spring|          4.7|                Yes|    Debit Card|       Express|                31|                  PayPal|                Weekly|2023-12-02 17:42:...|\n",
      "|         15|            Yes|                 NULL| 64|  Male|          Coat|  Outerwear|             Yes|     New York|   L|     Teal|Winter|          4.7|                Yes|        PayPal| Free Shipping|                34|              Debit Card|                Weekly|2023-12-02 17:42:...|\n",
      "|         16|            Yes|                 NULL| 64|  Male|         Skirt|   Clothing|             Yes| Rhode Island|   M|     Teal|Winter|          2.8|                Yes|   Credit Card|  Store Pickup|                 8|                  PayPal|               Monthly|2023-12-02 17:42:...|\n",
      "|         17|            Yes|                 NULL| 25|  Male|    Sunglasses|Accessories|             Yes|      Alabama|   S|     Gray|Spring|          4.1|                Yes|         Venmo|  Next Day Air|                44|              Debit Card|             Bi-Weekly|2023-12-02 17:42:...|\n",
      "|         18|            Yes|                 NULL| 53|  Male|         Dress|   Clothing|             Yes|  Mississippi|  XL| Lavender|Winter|          4.7|                Yes|    Debit Card|2-Day Shipping|                36|                   Venmo|             Quarterly|2023-12-02 17:42:...|\n",
      "|         19|            Yes|                 NULL| 52|  Male|       Sweater|   Clothing|             Yes|      Montana|   S|    Black|Summer|          4.6|                Yes| Bank Transfer| Free Shipping|                17|                    Cash|                Weekly|2023-12-02 17:42:...|\n",
      "|         20|            Yes|                 NULL| 66|  Male|         Pants|   Clothing|             Yes| Rhode Island|   M|    Green|Summer|          3.3|                Yes|         Venmo|      Standard|                46|              Debit Card|             Bi-Weekly|2023-12-02 17:42:...|\n",
      "+-----------+---------------+---------------------+---+------+--------------+-----------+----------------+-------------+----+---------+------+-------------+-------------------+--------------+--------------+------------------+------------------------+----------------------+--------------------+\n",
      "only showing top 20 rows\n",
      "\n"
     ]
    }
   ],
   "source": [
    "from datetime import date\n",
    "from pyspark.sql.functions import *\n",
    "\n",
    "shopping_df_final = shopping_in.select(\n",
    "    shopping_in.Customer_ID,\n",
    "    shopping_in.Discount_Applied.alias('Promo_Code_Used'),\n",
    "    to_date(shopping_in['Purchase_Amount_(USD)']).alias('Purchase_Amount_(USD)'),  # Removed square brackets\n",
    "    shopping_in.Age,\n",
    "    shopping_in.Gender,\n",
    "    shopping_in.Item_Purchased,\n",
    "    shopping_in.Category,\n",
    "    shopping_in.Discount_Applied,\n",
    "    shopping_in.Location,\n",
    "    shopping_in.Size,\n",
    "    shopping_in.Color,\n",
    "    shopping_in.Season,\n",
    "    shopping_in.Review_Rating,\n",
    "    shopping_in.Subscription_Status,\n",
    "    shopping_in.Payment_Method,\n",
    "    shopping_in.Shipping_Type,\n",
    "    shopping_in.Previous_Purchases,\n",
    "    shopping_in.Preferred_Payment_Method,\n",
    "    shopping_in.Frequency_of_Purchases,\n",
    "    shopping_in.Ingestion_Date\n",
    ")\n",
    "\n",
    "shopping_df_final.show()"
   ]
  },
  {
   "cell_type": "code",
   "execution_count": 38,
   "id": "9a2fcef0-52f9-4712-91b3-c6dc571823ca",
   "metadata": {},
   "outputs": [
    {
     "name": "stdout",
     "output_type": "stream",
     "text": [
      "+--------+\n",
      "|count(1)|\n",
      "+--------+\n",
      "|    2223|\n",
      "+--------+\n",
      "\n"
     ]
    }
   ],
   "source": [
    "shopping_df_final.createOrReplaceTempView(\"rfa\")\n",
    "spark.sql(\"SELECT COUNT(*) FROM rfa WHERE Promo_Code_Used = 'No'\").show()"
   ]
  },
  {
   "cell_type": "code",
   "execution_count": 39,
   "id": "25cf26c6-3e48-457f-b917-9a6f839974f5",
   "metadata": {},
   "outputs": [
    {
     "name": "stdout",
     "output_type": "stream",
     "text": [
      "+-----------+---------------+---------------------+---+------+--------------+-----------+----------------+-------------+----+---------+------+-------------+-------------------+--------------+--------------+------------------+------------------------+----------------------+--------------------+\n",
      "|Customer_ID|Promo_Code_Used|Purchase_Amount_(USD)|Age|Gender|Item_Purchased|   Category|Discount_Applied|     Location|Size|    Color|Season|Review_Rating|Subscription_Status|Payment_Method| Shipping_Type|Previous_Purchases|Preferred_Payment_Method|Frequency_of_Purchases|      Ingestion_Date|\n",
      "+-----------+---------------+---------------------+---+------+--------------+-----------+----------------+-------------+----+---------+------+-------------+-------------------+--------------+--------------+------------------+------------------------+----------------------+--------------------+\n",
      "|          1|            Yes|                 NULL| 55|  Male|        Blouse|   Clothing|             Yes|     Kentucky|   L|     Gray|Winter|          3.1|                Yes|   Credit Card|       Express|                14|                   Venmo|           Fortnightly|2023-12-02 17:48:...|\n",
      "|          2|            Yes|                 NULL| 19|  Male|       Sweater|   Clothing|             Yes|        Maine|   L|   Maroon|Winter|          3.1|                Yes| Bank Transfer|       Express|                 2|                    Cash|           Fortnightly|2023-12-02 17:48:...|\n",
      "|          3|            Yes|                 NULL| 50|  Male|         Jeans|   Clothing|             Yes|Massachusetts|   S|   Maroon|Spring|          3.1|                Yes|          Cash| Free Shipping|                23|             Credit Card|                Weekly|2023-12-02 17:48:...|\n",
      "|          4|            Yes|                 NULL| 21|  Male|       Sandals|   Footwear|             Yes| Rhode Island|   M|   Maroon|Spring|          3.5|                Yes|        PayPal|  Next Day Air|                49|                  PayPal|                Weekly|2023-12-02 17:48:...|\n",
      "|          5|            Yes|                 NULL| 45|  Male|        Blouse|   Clothing|             Yes|       Oregon|   M|Turquoise|Spring|          2.7|                Yes|          Cash| Free Shipping|                31|                  PayPal|              Annually|2023-12-02 17:48:...|\n",
      "|          6|            Yes|                 NULL| 46|  Male|      Sneakers|   Footwear|             Yes|      Wyoming|   M|    White|Summer|          2.9|                Yes|         Venmo|      Standard|                14|                   Venmo|                Weekly|2023-12-02 17:48:...|\n",
      "|          7|            Yes|                 NULL| 63|  Male|         Shirt|   Clothing|             Yes|      Montana|   M|     Gray|  Fall|          3.2|                Yes|    Debit Card| Free Shipping|                49|                    Cash|             Quarterly|2023-12-02 17:48:...|\n",
      "|          8|            Yes|                 NULL| 27|  Male|        Shorts|   Clothing|             Yes|    Louisiana|   L| Charcoal|Winter|          3.2|                Yes|    Debit Card| Free Shipping|                19|             Credit Card|                Weekly|2023-12-02 17:48:...|\n",
      "|          9|            Yes|                 NULL| 26|  Male|          Coat|  Outerwear|             Yes|West Virginia|   L|   Silver|Summer|          2.6|                Yes|         Venmo|       Express|                 8|                   Venmo|              Annually|2023-12-02 17:48:...|\n",
      "|         10|            Yes|                 NULL| 57|  Male|       Handbag|Accessories|             Yes|     Missouri|   M|     Pink|Spring|          4.8|                Yes|        PayPal|2-Day Shipping|                 4|                    Cash|             Quarterly|2023-12-02 17:48:...|\n",
      "|         11|            Yes|                 NULL| 53|  Male|         Shoes|   Footwear|             Yes|     Arkansas|   L|   Purple|  Fall|          4.1|                Yes|   Credit Card|  Store Pickup|                26|           Bank Transfer|             Bi-Weekly|2023-12-02 17:48:...|\n",
      "|         12|            Yes|                 NULL| 30|  Male|        Shorts|   Clothing|             Yes|       Hawaii|   S|    Olive|Winter|          4.9|                Yes|        PayPal|  Store Pickup|                10|           Bank Transfer|           Fortnightly|2023-12-02 17:48:...|\n",
      "|         13|            Yes|                 NULL| 61|  Male|          Coat|  Outerwear|             Yes|     Delaware|   M|     Gold|Winter|          4.5|                Yes|        PayPal|       Express|                37|                   Venmo|           Fortnightly|2023-12-02 17:48:...|\n",
      "|         14|            Yes|                 NULL| 65|  Male|         Dress|   Clothing|             Yes|New Hampshire|   M|   Violet|Spring|          4.7|                Yes|    Debit Card|       Express|                31|                  PayPal|                Weekly|2023-12-02 17:48:...|\n",
      "|         15|            Yes|                 NULL| 64|  Male|          Coat|  Outerwear|             Yes|     New York|   L|     Teal|Winter|          4.7|                Yes|        PayPal| Free Shipping|                34|              Debit Card|                Weekly|2023-12-02 17:48:...|\n",
      "|         16|            Yes|                 NULL| 64|  Male|         Skirt|   Clothing|             Yes| Rhode Island|   M|     Teal|Winter|          2.8|                Yes|   Credit Card|  Store Pickup|                 8|                  PayPal|               Monthly|2023-12-02 17:48:...|\n",
      "|         17|            Yes|                 NULL| 25|  Male|    Sunglasses|Accessories|             Yes|      Alabama|   S|     Gray|Spring|          4.1|                Yes|         Venmo|  Next Day Air|                44|              Debit Card|             Bi-Weekly|2023-12-02 17:48:...|\n",
      "|         18|            Yes|                 NULL| 53|  Male|         Dress|   Clothing|             Yes|  Mississippi|  XL| Lavender|Winter|          4.7|                Yes|    Debit Card|2-Day Shipping|                36|                   Venmo|             Quarterly|2023-12-02 17:48:...|\n",
      "|         19|            Yes|                 NULL| 52|  Male|       Sweater|   Clothing|             Yes|      Montana|   S|    Black|Summer|          4.6|                Yes| Bank Transfer| Free Shipping|                17|                    Cash|                Weekly|2023-12-02 17:48:...|\n",
      "|         20|            Yes|                 NULL| 66|  Male|         Pants|   Clothing|             Yes| Rhode Island|   M|    Green|Summer|          3.3|                Yes|         Venmo|      Standard|                46|              Debit Card|             Bi-Weekly|2023-12-02 17:48:...|\n",
      "+-----------+---------------+---------------------+---+------+--------------+-----------+----------------+-------------+----+---------+------+-------------+-------------------+--------------+--------------+------------------+------------------------+----------------------+--------------------+\n",
      "only showing top 20 rows\n",
      "\n"
     ]
    }
   ],
   "source": [
    "shopping_df_final.show()\n",
    "shopping_df_final.write.mode(\"overwrite\").partitionBy('Promo_Code_Used').parquet(\"shopping\")"
   ]
  },
  {
   "cell_type": "code",
   "execution_count": 64,
   "id": "e8f07ad8-bf34-4f64-9a3d-8a890e4848e2",
   "metadata": {},
   "outputs": [],
   "source": [
    "Shopping_No = spark.read.format('parquet').option('header', True).load(\"shopping/Promo_Code_Used=No/part-00000-3134cf2a-b59d-4159-b48e-a61bd593fa5d.c000.snappy.parquet\")\n",
    "shopping_1 = spark.read.format('parquet').option('header', True).load(\"shopping/Promo_Code_Used=No/part-00000-3134cf2a-b59d-4159-b48e-a61bd593fa5d.c000.snappy.parquet\")\n",
    "\n",
    "Shopping_No.createOrReplaceTempView(\"emr\")\n",
    "shopping_1.createOrReplaceTempView(\"ems\")\n",
    "\n",
    "emc_df = spark.sql(\"SELECT * FROM emr UNION ALL SELECT * FROM ems\")\n",
    "emc_df.createOrReplaceTempView(\"emc_No\")"
   ]
  },
  {
   "cell_type": "code",
   "execution_count": 110,
   "id": "df77f332-0a44-4058-b671-1a17fa3491e0",
   "metadata": {},
   "outputs": [
    {
     "name": "stdout",
     "output_type": "stream",
     "text": [
      "+---+------+------------+----------+\n",
      "|Age|Gender|previous_row|difference|\n",
      "+---+------+------------+----------+\n",
      "| 24|Female|        NULL|      NULL|\n",
      "| 24|Female|      Female|      NULL|\n",
      "| 24|Female|      Female|      NULL|\n",
      "| 24|Female|      Female|      NULL|\n",
      "| 24|Female|      Female|      NULL|\n",
      "| 24|Female|      Female|      NULL|\n",
      "| 24|Female|      Female|      NULL|\n",
      "| 24|Female|      Female|      NULL|\n",
      "| 24|Female|      Female|      NULL|\n",
      "| 24|Female|      Female|      NULL|\n",
      "| 24|Female|      Female|      NULL|\n",
      "| 24|Female|      Female|      NULL|\n",
      "| 24|Female|      Female|      NULL|\n",
      "| 24|Female|      Female|      NULL|\n",
      "| 24|Female|      Female|      NULL|\n",
      "| 24|Female|      Female|      NULL|\n",
      "| 24|Female|      Female|      NULL|\n",
      "| 24|Female|      Female|      NULL|\n",
      "| 24|Female|      Female|      NULL|\n",
      "| 24|Female|      Female|      NULL|\n",
      "+---+------+------------+----------+\n",
      "only showing top 20 rows\n",
      "\n"
     ]
    }
   ],
   "source": [
    "# goal1 1.### Analyze the dataset to gain insights into specific customer demographics,Discount Applied,Frequency of purchase\n",
    "spark.sql(\"\"\"\n",
    "    SELECT \n",
    "        Age,\n",
    "        Gender,\n",
    "        LAG(Gender) OVER (ORDER BY Gender) AS previous_row,\n",
    "       Discount_Applied - LAG(Gender) OVER (ORDER BY Gender) AS difference\n",
    "    FROM emc_No\n",
    "    WHERE Age = 24\n",
    "\"\"\").show()\n"
   ]
  },
  {
   "cell_type": "code",
   "execution_count": 77,
   "id": "72fdcdf8-3cf9-4407-8590-6701dfba4f3b",
   "metadata": {},
   "outputs": [
    {
     "name": "stdout",
     "output_type": "stream",
     "text": [
      "+---+----------------+----------------------+------------+----------+\n",
      "|Age|Discount_Applied|Frequency_of_Purchases|previous_row|difference|\n",
      "+---+----------------+----------------------+------------+----------+\n",
      "| 22|              No|              Annually|        NULL|      NULL|\n",
      "| 22|              No|                Weekly|          No|      NULL|\n",
      "| 22|              No|              Annually|          No|      NULL|\n",
      "| 22|              No|               Monthly|          No|      NULL|\n",
      "| 22|              No|             Bi-Weekly|          No|      NULL|\n",
      "| 22|              No|              Annually|          No|      NULL|\n",
      "| 22|              No|           Fortnightly|          No|      NULL|\n",
      "| 22|              No|           Fortnightly|          No|      NULL|\n",
      "| 22|              No|               Monthly|          No|      NULL|\n",
      "| 22|              No|        Every 3 Months|          No|      NULL|\n",
      "| 22|              No|              Annually|          No|      NULL|\n",
      "| 22|              No|                Weekly|          No|      NULL|\n",
      "| 22|              No|                Weekly|          No|      NULL|\n",
      "| 22|              No|             Bi-Weekly|          No|      NULL|\n",
      "| 22|              No|           Fortnightly|          No|      NULL|\n",
      "| 22|              No|                Weekly|          No|      NULL|\n",
      "| 22|              No|               Monthly|          No|      NULL|\n",
      "| 22|              No|        Every 3 Months|          No|      NULL|\n",
      "| 22|              No|                Weekly|          No|      NULL|\n",
      "| 22|              No|             Quarterly|          No|      NULL|\n",
      "+---+----------------+----------------------+------------+----------+\n",
      "only showing top 20 rows\n",
      "\n"
     ]
    }
   ],
   "source": [
    "#Goal_2 ### Exploring the factors contributing to discount applied by customer age .\n",
    "spark.sql(\"\"\"\n",
    "    SELECT \n",
    "        Age,\n",
    "        Discount_Applied,\n",
    "        Frequency_of_Purchases,\n",
    "        LAG(Discount_Applied) OVER (ORDER BY Discount_Applied) AS previous_row,\n",
    "       Discount_Applied - LAG(Discount_Applied) OVER (ORDER BY Discount_Applied) AS difference\n",
    "    FROM emc_No\n",
    "    WHERE Age = 22\n",
    "\"\"\").show()\n"
   ]
  },
  {
   "cell_type": "code",
   "execution_count": 78,
   "id": "3ddee2f1-c96c-4ad5-a81b-9f987163005f",
   "metadata": {},
   "outputs": [
    {
     "name": "stdout",
     "output_type": "stream",
     "text": [
      "+-----------+---------------+---------------------+---+------+--------------+-----------+----------------+------------+----+------+------+-------------+-------------------+--------------+--------------+------------------+------------------------+----------------------+--------------------+\n",
      "|Customer_ID|Promo_Code_Used|Purchase_Amount_(USD)|Age|Gender|Item_Purchased|   Category|Discount_Applied|    Location|Size| Color|Season|Review_Rating|Subscription_Status|Payment_Method| Shipping_Type|Previous_Purchases|Preferred_Payment_Method|Frequency_of_Purchases|      Ingestion_Date|\n",
      "+-----------+---------------+---------------------+---+------+--------------+-----------+----------------+------------+----+------+------+-------------+-------------------+--------------+--------------+------------------+------------------------+----------------------+--------------------+\n",
      "|       1687|             No|                 NULL| 22|  Male|        Gloves|Accessories|              No|    Illinois|   L|   Red|  Fall|          4.2|                 No|   Credit Card|  Store Pickup|                25|                    Cash|              Annually|2023-12-02 19:32:...|\n",
      "|       3084|             No|                 NULL| 22|Female|         Pants|   Clothing|              No|    Illinois|   S|Purple|Summer|          3.5|                 No|         Venmo|  Store Pickup|                28|                  PayPal|             Quarterly|2023-12-02 19:32:...|\n",
      "|       1801|             No|                 NULL| 22|  Male|          Coat|  Outerwear|              No| Mississippi|  XL|Indigo|Winter|          2.7|                 No|          Cash|       Express|                30|             Credit Card|                Weekly|2023-12-02 19:32:...|\n",
      "|       1859|             No|                 NULL| 22|  Male|         Scarf|Accessories|              No|       Maine|   S| Peach|Spring|          4.9|                 No|         Venmo|2-Day Shipping|                 8|              Debit Card|              Annually|2023-12-02 19:32:...|\n",
      "|       1905|             No|                 NULL| 22|  Male|       T-shirt|   Clothing|              No|      Nevada|   S|Silver|Spring|          4.2|                 No|        PayPal| Free Shipping|                46|                    Cash|               Monthly|2023-12-02 19:32:...|\n",
      "|       2182|             No|                 NULL| 22|  Male|       Handbag|Accessories|              No|      Hawaii|   M| Black|  Fall|          3.2|                 No|         Venmo| Free Shipping|                32|           Bank Transfer|             Bi-Weekly|2023-12-02 19:32:...|\n",
      "|       2227|             No|                 NULL| 22|  Male|         Shirt|   Clothing|              No|    Missouri|   L|  Blue|Spring|          4.8|                 No|   Credit Card|  Store Pickup|                28|                    Cash|              Annually|2023-12-02 19:32:...|\n",
      "|       2281|             No|                 NULL| 22|  Male|         Shoes|   Footwear|              No|    Kentucky|   M|   Red|Summer|          2.8|                 No| Bank Transfer|      Standard|                31|             Credit Card|           Fortnightly|2023-12-02 19:32:...|\n",
      "|       2347|             No|                 NULL| 22|  Male|        Jacket|  Outerwear|              No|  New Mexico|   L| Brown|Winter|          3.1|                 No| Bank Transfer|      Standard|                46|              Debit Card|           Fortnightly|2023-12-02 19:32:...|\n",
      "|       2356|             No|                 NULL| 22|  Male|         Skirt|   Clothing|              No|   Tennessee|   S|Purple|Winter|          4.1|                 No|        PayPal|  Next Day Air|                12|                    Cash|               Monthly|2023-12-02 19:32:...|\n",
      "|       2419|             No|                 NULL| 22|  Male|         Pants|   Clothing|              No|    Michigan|   S|Indigo|  Fall|          4.0|                 No| Bank Transfer|  Next Day Air|                47|                    Cash|        Every 3 Months|2023-12-02 19:32:...|\n",
      "|       2639|             No|                 NULL| 22|  Male|         Shirt|   Clothing|              No|      Hawaii|   S| Black|Spring|          4.2|                 No|        PayPal|  Store Pickup|                35|             Credit Card|              Annually|2023-12-02 19:32:...|\n",
      "|       2665|             No|                 NULL| 22|Female|       Jewelry|Accessories|              No|    Illinois|   L|Silver|Winter|          3.2|                 No|    Debit Card|  Store Pickup|                37|                  PayPal|                Weekly|2023-12-02 19:32:...|\n",
      "|       2701|             No|                 NULL| 22|Female|       T-shirt|   Clothing|              No|  California|  XL| Olive|Winter|          3.2|                 No| Bank Transfer|      Standard|                36|                    Cash|                Weekly|2023-12-02 19:32:...|\n",
      "|       2719|             No|                 NULL| 22|Female|        Shorts|   Clothing|              No|    Virginia|   M| Peach|Winter|          4.9|                 No|   Credit Card|  Next Day Air|                10|                   Venmo|             Bi-Weekly|2023-12-02 19:32:...|\n",
      "|       2803|             No|                 NULL| 22|Female|          Coat|  Outerwear|              No|      Hawaii|   L|   Red|  Fall|          3.1|                 No| Bank Transfer|  Store Pickup|                42|             Credit Card|           Fortnightly|2023-12-02 19:32:...|\n",
      "|       2884|             No|                 NULL| 22|Female|         Socks|   Clothing|              No|Rhode Island|  XL|Silver|Spring|          3.2|                 No|    Debit Card|      Standard|                10|                  PayPal|                Weekly|2023-12-02 19:32:...|\n",
      "|       2893|             No|                 NULL| 22|Female|         Dress|   Clothing|              No|      Nevada|   M|  Teal|Spring|          3.2|                 No| Bank Transfer|      Standard|                47|             Credit Card|               Monthly|2023-12-02 19:32:...|\n",
      "|       2951|             No|                 NULL| 22|Female|         Jeans|   Clothing|              No|        Iowa|   S|Maroon|Winter|          4.1|                 No| Bank Transfer|2-Day Shipping|                44|              Debit Card|        Every 3 Months|2023-12-02 19:32:...|\n",
      "|       3034|             No|                 NULL| 22|Female|       Sweater|   Clothing|              No|     Alabama|   L|Orange|Spring|          2.6|                 No|        PayPal|  Store Pickup|                 9|                  PayPal|                Weekly|2023-12-02 19:32:...|\n",
      "+-----------+---------------+---------------------+---+------+--------------+-----------+----------------+------------+----+------+------+-------------+-------------------+--------------+--------------+------------------+------------------------+----------------------+--------------------+\n",
      "only showing top 20 rows\n",
      "\n"
     ]
    }
   ],
   "source": [
    "spark.sql(\"select * from rfa where age = 22 order by Discount_Applied\").show()"
   ]
  },
  {
   "cell_type": "code",
   "execution_count": 81,
   "id": "ade0e876-9727-4c5d-b928-9bbae81d872b",
   "metadata": {},
   "outputs": [],
   "source": [
    "mrf = spark.sql(\"SELECT DISTINCT Age FROM rfa WHERE Discount_Applied = 'yes'\")\n",
    "mrf.createOrReplaceTempView('Applied')"
   ]
  },
  {
   "cell_type": "code",
   "execution_count": 83,
   "id": "03f26731-983d-429c-9b65-59a9f0dabe05",
   "metadata": {},
   "outputs": [],
   "source": [
    "mpf = spark.sql(\"SELECT DISTINCT Age FROM rfa WHERE Discount_Applied = 'No'\")\n",
    "mpf.createOrReplaceTempView('Not_Applied')"
   ]
  },
  {
   "cell_type": "code",
   "execution_count": 85,
   "id": "ead9bc2f-5d5e-4a49-a32e-3e632ca9ebc6",
   "metadata": {},
   "outputs": [
    {
     "name": "stdout",
     "output_type": "stream",
     "text": [
      "+---+\n",
      "|Age|\n",
      "+---+\n",
      "+---+\n",
      "\n"
     ]
    }
   ],
   "source": [
    "spark.sql(\"\"\"\n",
    "    SELECT Age FROM Applied\n",
    "    INTERSECT\n",
    "    SELECT Age FROM `Not_Applied`\n",
    "\"\"\").show()"
   ]
  },
  {
   "cell_type": "code",
   "execution_count": 93,
   "id": "00964ea4-afcb-4e21-abd8-b661b8ddaa7b",
   "metadata": {},
   "outputs": [
    {
     "name": "stdout",
     "output_type": "stream",
     "text": [
      "+--------+\n",
      "|count(1)|\n",
      "+--------+\n",
      "|    1737|\n",
      "+--------+\n",
      "\n",
      "+-----------+---------------+---------------------+---+------+--------------+--------+----------------+--------+----+-----+------+-------------+-------------------+--------------+-------------+------------------+------------------------+----------------------+--------------+\n",
      "|Customer_ID|Promo_Code_Used|Purchase_Amount_(USD)|Age|Gender|Item_Purchased|Category|Discount_Applied|Location|Size|Color|Season|Review_Rating|Subscription_Status|Payment_Method|Shipping_Type|Previous_Purchases|Preferred_Payment_Method|Frequency_of_Purchases|Ingestion_Date|\n",
      "+-----------+---------------+---------------------+---+------+--------------+--------+----------------+--------+----+-----+------+-------------+-------------------+--------------+-------------+------------------+------------------------+----------------------+--------------+\n",
      "+-----------+---------------+---------------------+---+------+--------------+--------+----------------+--------+----+-----+------+-------------+-------------------+--------------+-------------+------------------+------------------------+----------------------+--------------+\n",
      "\n",
      "+-----------+---------------+---------------------+---+------+--------------+--------+----------------+--------------+----+---------+------+-------------+-------------------+--------------+--------------+------------------+------------------------+----------------------+--------------------+\n",
      "|Customer_ID|Promo_Code_Used|Purchase_Amount_(USD)|Age|Gender|Item_Purchased|Category|Discount_Applied|      Location|Size|    Color|Season|Review_Rating|Subscription_Status|Payment_Method| Shipping_Type|Previous_Purchases|Preferred_Payment_Method|Frequency_of_Purchases|      Ingestion_Date|\n",
      "+-----------+---------------+---------------------+---+------+--------------+--------+----------------+--------------+----+---------+------+-------------+-------------------+--------------+--------------+------------------+------------------------+----------------------+--------------------+\n",
      "|          5|            Yes|                 NULL| 45|  Male|        Blouse|Clothing|             Yes|        Oregon|   M|Turquoise|Spring|          2.7|                Yes|          Cash| Free Shipping|                31|                  PayPal|              Annually|2023-12-02 19:51:...|\n",
      "|          7|            Yes|                 NULL| 63|  Male|         Shirt|Clothing|             Yes|       Montana|   M|     Gray|  Fall|          3.2|                Yes|    Debit Card| Free Shipping|                49|                    Cash|             Quarterly|2023-12-02 19:51:...|\n",
      "|         14|            Yes|                 NULL| 65|  Male|         Dress|Clothing|             Yes| New Hampshire|   M|   Violet|Spring|          4.7|                Yes|    Debit Card|       Express|                31|                  PayPal|                Weekly|2023-12-02 19:51:...|\n",
      "|         16|            Yes|                 NULL| 64|  Male|         Skirt|Clothing|             Yes|  Rhode Island|   M|     Teal|Winter|          2.8|                Yes|   Credit Card|  Store Pickup|                 8|                  PayPal|               Monthly|2023-12-02 19:51:...|\n",
      "|         20|            Yes|                 NULL| 66|  Male|         Pants|Clothing|             Yes|  Rhode Island|   M|    Green|Summer|          3.3|                Yes|         Venmo|      Standard|                46|              Debit Card|             Bi-Weekly|2023-12-02 19:51:...|\n",
      "|         21|            Yes|                 NULL| 21|  Male|         Pants|Clothing|             Yes|     Louisiana|   M|    Black|Winter|          2.8|                Yes|   Credit Card|       Express|                50|                    Cash|        Every 3 Months|2023-12-02 19:51:...|\n",
      "|         22|            Yes|                 NULL| 31|  Male|         Pants|Clothing|             Yes|North Carolina|   M| Charcoal|Winter|          4.1|                Yes|   Credit Card|  Store Pickup|                22|              Debit Card|             Quarterly|2023-12-02 19:51:...|\n",
      "|         23|            Yes|                 NULL| 56|  Male|         Pants|Clothing|             Yes|    California|   M|    Peach|Summer|          3.2|                Yes|          Cash|  Store Pickup|                32|              Debit Card|              Annually|2023-12-02 19:51:...|\n",
      "|         26|            Yes|                 NULL| 18|  Male|        Hoodie|Clothing|             Yes|         Texas|   M|   Silver|Summer|          3.6|                Yes| Bank Transfer|       Express|                14|                  PayPal|              Annually|2023-12-02 19:51:...|\n",
      "|         36|            Yes|                 NULL| 54|  Male|        Blouse|Clothing|             Yes| Massachusetts|   M|     Cyan|Summer|          4.0|                Yes| Bank Transfer|2-Day Shipping|                48|             Credit Card|             Bi-Weekly|2023-12-02 19:51:...|\n",
      "|         37|            Yes|                 NULL| 35|  Male|       T-shirt|Clothing|             Yes|      Illinois|   M|   Maroon|Winter|          4.6|                Yes|          Cash| Free Shipping|                44|                  PayPal|           Fortnightly|2023-12-02 19:51:...|\n",
      "|         39|            Yes|                 NULL| 29|  Male|         Dress|Clothing|             Yes|       Florida|   M|      Red|Winter|          3.7|                Yes|    Debit Card|2-Day Shipping|                44|                   Venmo|        Every 3 Months|2023-12-02 19:51:...|\n",
      "|         49|            Yes|                 NULL| 42|  Male|         Shirt|Clothing|             Yes|        Nevada|   M|   Orange|Summer|          2.7|                Yes|    Debit Card|  Store Pickup|                38|                    Cash|               Monthly|2023-12-02 19:51:...|\n",
      "|         51|            Yes|                 NULL| 49|  Male|        Blouse|Clothing|             Yes|      Maryland|   M|      Red|Spring|          3.7|                Yes|          Cash|  Store Pickup|                39|              Debit Card|             Bi-Weekly|2023-12-02 19:51:...|\n",
      "|         53|            Yes|                 NULL| 42|  Male|       T-shirt|Clothing|             Yes|        Alaska|   M|    Green|Summer|          2.6|                Yes|   Credit Card| Free Shipping|                26|             Credit Card|                Weekly|2023-12-02 19:51:...|\n",
      "|         59|            Yes|                 NULL| 69|  Male|        Hoodie|Clothing|             Yes|      Missouri|   M| Charcoal|Summer|          4.2|                Yes|   Credit Card| Free Shipping|                29|                   Venmo|               Monthly|2023-12-02 19:51:...|\n",
      "|         73|            Yes|                 NULL| 18|  Male|         Dress|Clothing|             Yes|       Georgia|   M|    Olive|Winter|          2.9|                Yes|    Debit Card|  Store Pickup|                21|           Bank Transfer|        Every 3 Months|2023-12-02 19:51:...|\n",
      "|         74|            Yes|                 NULL| 48|  Male|         Pants|Clothing|             Yes|        Hawaii|   M|     Teal|Spring|          2.7|                Yes|    Debit Card| Free Shipping|                43|           Bank Transfer|             Bi-Weekly|2023-12-02 19:51:...|\n",
      "|         79|            Yes|                 NULL| 50|  Male|         Skirt|Clothing|             Yes|      Nebraska|   M|   Maroon|Spring|          4.7|                Yes|         Venmo| Free Shipping|                50|                   Venmo|           Fortnightly|2023-12-02 19:51:...|\n",
      "|         84|            Yes|                 NULL| 36|  Male|         Dress|Clothing|             Yes|         Texas|   M|Turquoise|Summer|          4.1|                Yes|    Debit Card|      Standard|                34|           Bank Transfer|                Weekly|2023-12-02 19:51:...|\n",
      "+-----------+---------------+---------------------+---+------+--------------+--------+----------------+--------------+----+---------+------+-------------+-------------------+--------------+--------------+------------------+------------------------+----------------------+--------------------+\n",
      "only showing top 20 rows\n",
      "\n"
     ]
    }
   ],
   "source": [
    "# Goal 3 Analyze the size of the customer based upon the category.\n",
    "spark.sql(\"select count(*) from rfa where Category = 'Clothing'\").show()\n",
    "spark.sql(\"SELECT * FROM rfa WHERE Category = 'Clothing' And Size = 's' LIMIT 75\").show()\n",
    "spark.sql(\"SELECT * FROM rfa WHERE Category = 'Clothing' AND Size = 'M' LIMIT 75\").show()\n"
   ]
  },
  {
   "cell_type": "code",
   "execution_count": 96,
   "id": "db4b20f0-ad38-4e54-9a09-4f7d8f3b9c9a",
   "metadata": {},
   "outputs": [
    {
     "name": "stdout",
     "output_type": "stream",
     "text": [
      "+-----------+---+-----+\n",
      "|   Category|Age|Sales|\n",
      "+-----------+---+-----+\n",
      "|Accessories| 18|  387|\n",
      "|Accessories| 19|  682|\n",
      "|Accessories| 20|  369|\n",
      "|Accessories| 21|  454|\n",
      "|Accessories| 22|  625|\n",
      "|Accessories| 23|  563|\n",
      "|Accessories| 24|  527|\n",
      "|Accessories| 25|  806|\n",
      "|Accessories| 26|  609|\n",
      "|Accessories| 27|  689|\n",
      "|Accessories| 28|  613|\n",
      "|Accessories| 29|  662|\n",
      "|Accessories| 30|  664|\n",
      "|Accessories| 31|  488|\n",
      "|Accessories| 32|  682|\n",
      "|Accessories| 33|  455|\n",
      "|Accessories| 34|  600|\n",
      "|Accessories| 35|  706|\n",
      "|Accessories| 36|  644|\n",
      "|Accessories| 37|  608|\n",
      "|Accessories| 38|  512|\n",
      "|Accessories| 39|  775|\n",
      "|Accessories| 40|  517|\n",
      "|Accessories| 41|  699|\n",
      "|Accessories| 42|  596|\n",
      "|Accessories| 43|  512|\n",
      "|Accessories| 44|  657|\n",
      "|Accessories| 45|  574|\n",
      "|Accessories| 46|  435|\n",
      "|Accessories| 47|  494|\n",
      "|Accessories| 48|  665|\n",
      "|Accessories| 49|  427|\n",
      "|Accessories| 50|  512|\n",
      "|Accessories| 51|  546|\n",
      "|Accessories| 52|  491|\n",
      "|Accessories| 53|  583|\n",
      "|Accessories| 54|  822|\n",
      "|Accessories| 55|  648|\n",
      "|Accessories| 56|  615|\n",
      "|Accessories| 57|  766|\n",
      "|Accessories| 58|  571|\n",
      "|Accessories| 59|  394|\n",
      "|Accessories| 60|  607|\n",
      "|Accessories| 61|  617|\n",
      "|Accessories| 62|  774|\n",
      "|Accessories| 63|  499|\n",
      "|Accessories| 64|  741|\n",
      "|Accessories| 65|  760|\n",
      "|Accessories| 66|  644|\n",
      "|Accessories| 67|  465|\n",
      "|Accessories| 68|  594|\n",
      "|Accessories| 69|  973|\n",
      "|Accessories| 70|  582|\n",
      "|   Clothing| 18|  628|\n",
      "|   Clothing| 19|  867|\n",
      "|   Clothing| 20|  820|\n",
      "|   Clothing| 21|  878|\n",
      "|   Clothing| 22|  749|\n",
      "|   Clothing| 23|  623|\n",
      "|   Clothing| 24|  878|\n",
      "|   Clothing| 25|  946|\n",
      "|   Clothing| 26|  717|\n",
      "|   Clothing| 27|  869|\n",
      "|   Clothing| 28|  952|\n",
      "|   Clothing| 29|  881|\n",
      "|   Clothing| 30|  810|\n",
      "|   Clothing| 31| 1076|\n",
      "|   Clothing| 32| 1131|\n",
      "|   Clothing| 33|  614|\n",
      "|   Clothing| 34|  648|\n",
      "|   Clothing| 35|  672|\n",
      "|   Clothing| 36|  712|\n",
      "|   Clothing| 37| 1022|\n",
      "|   Clothing| 38|  788|\n",
      "|   Clothing| 39|  502|\n",
      "|   Clothing| 40|  951|\n",
      "|   Clothing| 41| 1045|\n",
      "|   Clothing| 42| 1001|\n",
      "|   Clothing| 43|  919|\n",
      "|   Clothing| 44|  468|\n",
      "|   Clothing| 45|  715|\n",
      "|   Clothing| 46| 1061|\n",
      "|   Clothing| 47|  669|\n",
      "|   Clothing| 48|  356|\n",
      "|   Clothing| 49| 1143|\n",
      "|   Clothing| 50|  769|\n",
      "|   Clothing| 51|  580|\n",
      "|   Clothing| 52| 1084|\n",
      "|   Clothing| 53|  801|\n",
      "|   Clothing| 54|  943|\n",
      "|   Clothing| 55|  675|\n",
      "|   Clothing| 56|  940|\n",
      "|   Clothing| 57| 1086|\n",
      "|   Clothing| 58| 1028|\n",
      "|   Clothing| 59|  939|\n",
      "|   Clothing| 60|  653|\n",
      "|   Clothing| 61|  647|\n",
      "|   Clothing| 62|  934|\n",
      "|   Clothing| 63|  893|\n",
      "|   Clothing| 64|  686|\n",
      "+-----------+---+-----+\n",
      "only showing top 100 rows\n",
      "\n"
     ]
    }
   ],
   "source": [
    "#Goal 4. Analyzing the Previous Purchases based upon the customer age groups\n",
    "spark.sql(\"SELECT Category, Age, SUM(Previous_Purchases) AS Sales FROM rfa GROUP BY Category, Age ORDER BY Category, Age\").show(100)\n"
   ]
  },
  {
   "cell_type": "code",
   "execution_count": 102,
   "id": "690a2a40-39cc-4194-a107-d93b300eea38",
   "metadata": {},
   "outputs": [
    {
     "name": "stdout",
     "output_type": "stream",
     "text": [
      "+-------------+-------------------+-------------------+\n",
      "|Review_Rating|Subscription_Status|count_Review_Rating|\n",
      "+-------------+-------------------+-------------------+\n",
      "|          2.5|                 No|                 47|\n",
      "|          2.5|                Yes|                 19|\n",
      "|          2.6|                 No|                111|\n",
      "|          2.6|                Yes|                 48|\n",
      "|          2.7|                 No|                116|\n",
      "|          2.7|                Yes|                 38|\n",
      "|          2.8|                 No|                 97|\n",
      "|          2.8|                Yes|                 39|\n",
      "|          2.9|                 No|                129|\n",
      "|          2.9|                Yes|                 41|\n",
      "|          3.0|                 No|                118|\n",
      "|          3.0|                Yes|                 44|\n",
      "|          3.1|                 No|                119|\n",
      "|          3.1|                Yes|                 38|\n",
      "|          3.2|                 No|                104|\n",
      "|          3.2|                Yes|                 48|\n",
      "|          3.3|                 No|                104|\n",
      "|          3.3|                Yes|                 48|\n",
      "|          3.4|                 No|                140|\n",
      "|          3.4|                Yes|                 42|\n",
      "+-------------+-------------------+-------------------+\n",
      "only showing top 20 rows\n",
      "\n"
     ]
    }
   ],
   "source": [
    "# Goal 5 Analyze review ratings and subscription status\n",
    "spark.sql(\"\"\"\n",
    "    SELECT\n",
    "        Review_Rating,\n",
    "        Subscription_Status,\n",
    "        COUNT(*) AS count_Review_Rating\n",
    "    FROM\n",
    "        rfa\n",
    "    GROUP BY\n",
    "        Review_Rating,\n",
    "        Subscription_Status\n",
    "    ORDER BY\n",
    "        Review_Rating,\n",
    "        Subscription_Status\n",
    "\"\"\").show()"
   ]
  },
  {
   "cell_type": "code",
   "execution_count": 104,
   "id": "5ea16bd7-8dd5-4dce-9855-02c3c69933b2",
   "metadata": {},
   "outputs": [
    {
     "name": "stdout",
     "output_type": "stream",
     "text": [
      "+----------------------+---------------+\n",
      "|Frequency_of_Purchases|count_Customers|\n",
      "+----------------------+---------------+\n",
      "|              Annually|            572|\n",
      "|             Bi-Weekly|            547|\n",
      "|        Every 3 Months|            584|\n",
      "|           Fortnightly|            542|\n",
      "|               Monthly|            553|\n",
      "|             Quarterly|            563|\n",
      "|                Weekly|            539|\n",
      "+----------------------+---------------+\n",
      "\n"
     ]
    }
   ],
   "source": [
    "#Goal 6\tAnalyze the frequency of customer purchases.\n",
    "spark.sql(\"\"\"\n",
    "    SELECT\n",
    "        Frequency_of_Purchases,\n",
    "        COUNT(*) AS count_Customers\n",
    "    FROM\n",
    "        rfa\n",
    "    GROUP BY\n",
    "        Frequency_of_Purchases\n",
    "    ORDER BY\n",
    "        Frequency_of_Purchases\n",
    "\"\"\").show()"
   ]
  },
  {
   "cell_type": "code",
   "execution_count": null,
   "id": "a0bfeb6d-0f7d-4feb-b037-b7764ad00ed5",
   "metadata": {},
   "outputs": [],
   "source": []
  }
 ],
 "metadata": {
  "kernelspec": {
   "display_name": "Python 3 (ipykernel)",
   "language": "python",
   "name": "python3"
  },
  "language_info": {
   "codemirror_mode": {
    "name": "ipython",
    "version": 3
   },
   "file_extension": ".py",
   "mimetype": "text/x-python",
   "name": "python",
   "nbconvert_exporter": "python",
   "pygments_lexer": "ipython3",
   "version": "3.12.0"
  }
 },
 "nbformat": 4,
 "nbformat_minor": 5
}
